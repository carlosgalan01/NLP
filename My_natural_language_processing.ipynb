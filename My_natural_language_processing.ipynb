{
  "nbformat": 4,
  "nbformat_minor": 0,
  "metadata": {
    "colab": {
      "provenance": [],
      "include_colab_link": true
    },
    "kernelspec": {
      "name": "python3",
      "display_name": "Python 3"
    }
  },
  "cells": [
    {
      "cell_type": "markdown",
      "metadata": {
        "id": "view-in-github",
        "colab_type": "text"
      },
      "source": [
        "<a href=\"https://colab.research.google.com/github/carlosgalan01/NLP/blob/main/My_natural_language_processing.ipynb\" target=\"_parent\"><img src=\"https://colab.research.google.com/assets/colab-badge.svg\" alt=\"Open In Colab\"/></a>"
      ]
    },
    {
      "cell_type": "markdown",
      "metadata": {
        "id": "VwK5-9FIB-lu"
      },
      "source": [
        "# Natural Language Processing"
      ]
    },
    {
      "cell_type": "markdown",
      "metadata": {
        "id": "X1kiO9kACE6s"
      },
      "source": [
        "## Importing the libraries"
      ]
    },
    {
      "cell_type": "code",
      "metadata": {
        "id": "7QG7sxmoCIvN"
      },
      "source": [
        "import numpy as np\n",
        "import matplotlib.pyplot as plt\n",
        "import pandas as pd"
      ],
      "execution_count": null,
      "outputs": []
    },
    {
      "cell_type": "markdown",
      "metadata": {
        "id": "wTfaCIzdCLPA"
      },
      "source": [
        "## Importing the dataset"
      ]
    },
    {
      "cell_type": "code",
      "metadata": {
        "id": "UCK6vQ5QCQJe"
      },
      "source": [
        "dataset = pd.read_csv('Restaurant_Reviews.tsv', delimiter = '\\t', quoting = 3)"
      ],
      "execution_count": null,
      "outputs": []
    },
    {
      "cell_type": "code",
      "source": [
        "# prompt: print las primeras 5 filas del dataset\n",
        "\n",
        "print(dataset.head(10))"
      ],
      "metadata": {
        "colab": {
          "base_uri": "https://localhost:8080/"
        },
        "id": "rLvXe9YUvWpo",
        "outputId": "bf3c2761-623d-42e1-d138-732ebf088128"
      },
      "execution_count": null,
      "outputs": [
        {
          "output_type": "stream",
          "name": "stdout",
          "text": [
            "                                              Review  Liked\n",
            "0                           Wow... Loved this place.      1\n",
            "1                                 Crust is not good.      0\n",
            "2          Not tasty and the texture was just nasty.      0\n",
            "3  Stopped by during the late May bank holiday of...      1\n",
            "4  The selection on the menu was great and so wer...      1\n",
            "5     Now I am getting angry and I want my damn pho.      0\n",
            "6              Honeslty it didn't taste THAT fresh.)      0\n",
            "7  The potatoes were like rubber and you could te...      0\n",
            "8                          The fries were great too.      1\n",
            "9                                     A great touch.      1\n"
          ]
        }
      ]
    },
    {
      "cell_type": "markdown",
      "metadata": {
        "id": "Qekztq71CixT"
      },
      "source": [
        "## Cleaning the texts"
      ]
    },
    {
      "cell_type": "code",
      "metadata": {
        "id": "8u_yXh9dCmEE",
        "outputId": "c8ea51a4-6b2f-4239-f00c-6ead9580c7c4",
        "colab": {
          "base_uri": "https://localhost:8080/"
        }
      },
      "source": [
        "import re\n",
        "import nltk\n",
        "nltk.download('stopwords')\n",
        "from nltk.corpus import stopwords\n",
        "from nltk.stem.porter import PorterStemmer\n",
        "corpus = []\n",
        "for i in range(0, 1000):\n",
        "  review = re.sub('[^a-zA-Z]', ' ', dataset['Review'][i])\n",
        "  review = review.lower()\n",
        "  review = review.split()\n",
        "  ps = PorterStemmer()\n",
        "  all_stopwords = stopwords.words('english')\n",
        "  all_stopwords.remove('not')\n",
        "  review = [ps.stem(word) for word in review if not word in set(all_stopwords)]\n",
        "  review = ' '.join(review)\n",
        "  corpus.append(review)"
      ],
      "execution_count": null,
      "outputs": [
        {
          "output_type": "stream",
          "name": "stderr",
          "text": [
            "[nltk_data] Downloading package stopwords to /root/nltk_data...\n",
            "[nltk_data]   Package stopwords is already up-to-date!\n"
          ]
        }
      ]
    },
    {
      "cell_type": "code",
      "metadata": {
        "id": "KpGWdrzGoAsL",
        "colab": {
          "base_uri": "https://localhost:8080/"
        },
        "outputId": "5587a5db-3b32-47d5-9f05-7f66c25fb832"
      },
      "source": [
        "print(corpus)"
      ],
      "execution_count": null,
      "outputs": [
        {
          "output_type": "stream",
          "name": "stdout",
          "text": [
            "['wow love place', 'crust not good', 'not tasti textur nasti', 'stop late may bank holiday rick steve recommend love', 'select menu great price', 'get angri want damn pho', 'honeslti tast fresh', 'potato like rubber could tell made ahead time kept warmer', 'fri great', 'great touch', 'servic prompt', 'would not go back', 'cashier care ever say still end wayyy overpr', 'tri cape cod ravoli chicken cranberri mmmm', 'disgust pretti sure human hair', 'shock sign indic cash', 'highli recommend', 'waitress littl slow servic', 'place not worth time let alon vega', 'not like', 'burritto blah', 'food amaz', 'servic also cute', 'could care less interior beauti', 'perform', 'right red velvet cake ohhh stuff good', 'never brought salad ask', 'hole wall great mexican street taco friendli staff', 'took hour get food tabl restaur food luke warm sever run around like total overwhelm', 'worst salmon sashimi', 'also combo like burger fri beer decent deal', 'like final blow', 'found place accid could not happier', 'seem like good quick place grab bite familiar pub food favor look elsewher', 'overal like place lot', 'redeem qualiti restaur inexpens', 'ampl portion good price', 'poor servic waiter made feel like stupid everi time came tabl', 'first visit hiro delight', 'servic suck', 'shrimp tender moist', 'not deal good enough would drag establish', 'hard judg whether side good gross melt styrofoam want eat fear get sick', 'posit note server attent provid great servic', 'frozen puck disgust worst peopl behind regist', 'thing like prime rib dessert section', 'bad food damn gener', 'burger good beef cook right', 'want sandwich go firehous', 'side greek salad greek dress tasti pita hummu refresh', 'order duck rare pink tender insid nice char outsid', 'came run us realiz husband left sunglass tabl', 'chow mein good', 'horribl attitud toward custom talk one custom enjoy food', 'portion huge', 'love friendli server great food wonder imagin menu', 'heart attack grill downtown vega absolut flat line excus restaur', 'not much seafood like string pasta bottom', 'salad right amount sauc not power scallop perfectli cook', 'rip banana not rip petrifi tasteless', 'least think refil water struggl wave minut', 'place receiv star appet', 'cocktail handmad delici', 'definit go back', 'glad found place', 'great food servic huge portion give militari discount', 'alway great time do gringo', 'updat went back second time still amaz', 'got food appar never heard salt batter fish chewi', 'great way finish great', 'deal includ tast drink jeff went beyond expect', 'realli realli good rice time', 'servic meh', 'took min get milkshak noth chocol milk', 'guess known place would suck insid excalibur use common sens', 'scallop dish quit appal valu well', 'time bad custom servic', 'sweet potato fri good season well', 'today second time lunch buffet pretti good', 'much good food vega feel cheat wast eat opportun go rice compani', 'come like experienc underwhelm relationship parti wait person ask break', 'walk place smell like old greas trap other eat', 'turkey roast beef bland', 'place', 'pan cake everyon rave tast like sugari disast tailor palat six year old', 'love pho spring roll oh yummi tri', 'poor batter meat ratio made chicken tender unsatisfi', 'say food amaz', 'omelet die', 'everyth fresh delici', 'summari larg disappoint dine experi', 'like realli sexi parti mouth outrag flirt hottest person parti', 'never hard rock casino never ever step forward', 'best breakfast buffet', 'say bye bye tip ladi', 'never go', 'back', 'food arriv quickli', 'not good', 'side cafe serv realli good food', 'server fantast found wife love roast garlic bone marrow ad extra meal anoth marrow go', 'good thing waiter help kept bloddi mari come', 'best buffet town price cannot beat', 'love mussel cook wine reduct duck tender potato dish delici', 'one better buffet', 'went tigerlilli fantast afternoon', 'food delici bartend attent person got great deal', 'ambienc wonder music play', 'go back next trip', 'sooooo good', 'real sushi lover let honest yama not good', 'least min pass us order food arriv busi', 'realli fantast thai restaur definit worth visit', 'nice spici tender', 'good price', 'check', 'pretti gross', 'better atmospher', 'kind hard mess steak', 'although much like look sound place actual experi bit disappoint', 'know place manag serv blandest food ever eaten prepar indian cuisin', 'worst servic boot least worri', 'servic fine waitress friendli', 'guy steak steak love son steak best worst place said best steak ever eaten', 'thought ventur away get good sushi place realli hit spot night', 'host staff lack better word bitch', 'bland not like place number reason want wast time bad review leav', 'phenomen food servic ambianc', 'return', 'definit worth ventur strip pork belli return next time vega', 'place way overpr mediocr food', 'penn vodka excel', 'good select food includ massiv meatloaf sandwich crispi chicken wrap delish tuna melt tasti burger', 'manag rude', 'delici nyc bagel good select cream chees real lox caper even', 'great subway fact good come everi subway not meet expect', 'serious solid breakfast', 'one best bar food vega', 'extrem rude realli mani restaur would love dine weekend vega', 'drink never empti made realli great menu suggest', '', 'waiter help friendli rare check us', 'husband ate lunch disappoint food servic', 'red curri much bamboo shoot tasti', 'nice blanket moz top feel like done cover subpar food', 'bathroom clean place well decor', 'menu alway chang food qualiti go servic extrem slow', 'servic littl slow consid serv peopl server food come slow pace', 'give thumb', 'watch waiter pay lot attent tabl ignor us', 'fianc came middl day greet seat right away', 'great restaur mandalay bay', 'wait forti five minut vain', 'crostini came salad stale', 'highlight great qualiti nigiri', 'staff friendli joint alway clean', 'differ cut piec day still wonder tender well well flavor', 'order voodoo pasta first time realli excel pasta sinc go gluten free sever year ago', 'place good', 'unfortun must hit bakeri leftov day everyth order stale', 'came back today sinc reloc still not impress', 'seat immedi', 'menu divers reason price', 'avoid cost', 'restaur alway full never wait', 'delici', 'place hand one best place eat phoenix metro area', 'go look good food', 'never treat bad', 'bacon hella salti', 'also order spinach avocado salad ingredi sad dress liter zero tast', 'realli vega fine dine use right menu hand ladi price list', 'waitress friendli', 'lordi khao soi dish not miss curri lover', 'everyth menu terrif also thrill made amaz accommod vegetarian daughter', 'perhap caught night judg review not inspir go back', 'servic leav lot desir', 'atmospher modern hip maintain touch cozi', 'not weekli haunt definit place come back everi', 'liter sat minut one ask take order', 'burger absolut flavor meat total bland burger overcook charcoal flavor', 'also decid not send back waitress look like verg heart attack', 'dress treat rude', 'probabl dirt', 'love place hit spot want someth healthi not lack quantiti flavor', 'order lemon raspberri ice cocktail also incred', 'food suck expect suck could imagin', 'interest decor', 'realli like crepe station', 'also serv hot bread butter home made potato chip bacon bit top origin good', 'watch prepar delici food', 'egg roll fantast', 'order arriv one gyro miss', 'salad wing ice cream dessert left feel quit satisfi', 'not realli sure joey vote best hot dog valley reader phoenix magazin', 'best place go tasti bowl pho', 'live music friday total blow', 'never insult felt disrespect', 'friendli staff', 'worth drive', 'heard good thing place exceed everi hope could dream', 'food great serivc', 'warm beer help', 'great brunch spot', 'servic friendli invit', 'good lunch spot', 'live sinc first last time step foot place', 'worst experi ever', 'must night place', 'side delish mix mushroom yukon gold pure white corn beateou', 'bug never show would given sure side wall bug climb kitchen', 'minut wait salad realiz come time soon', 'friend love salmon tartar', 'go back', 'extrem tasti', 'waitress good though', 'soggi not good', 'jamaican mojito delici', 'small not worth price', 'food rich order accordingli', 'shower area outsid rins not take full shower unless mind nude everyon see', 'servic bit lack', 'lobster bisqu bussel sprout risotto filet need salt pepper cours none tabl', 'hope bode go busi someon cook come', 'either cold not enough flavor bad', 'love bacon wrap date', 'unbeliev bargain', 'folk otto alway make us feel welcom special', 'main also uninspir', 'place first pho amaz', 'wonder experi made place must stop whenev town', 'food bad enough enjoy deal world worst annoy drunk peopl', 'fun chef', 'order doubl cheeseburg got singl patti fall apart pictur upload yeah still suck', 'great place coupl drink watch sport event wall cover tv', 'possibl give zero star', 'descript said yum yum sauc anoth said eel sauc yet anoth said spici mayo well none roll sauc', 'say would hardest decis honestli dish tast suppos tast amaz', 'not roll eye may stay not sure go back tri', 'everyon attent provid excel custom servic', 'horribl wast time money', 'dish quit flavour', 'time side restaur almost empti excus', 'busi either also build freez cold', 'like review said pay eat place', 'drink took close minut come one point', 'serious flavor delight folk', 'much better ayc sushi place went vega', 'light dark enough set mood', 'base sub par servic receiv effort show gratitud busi go back', 'owner realli great peopl', 'noth privileg work eat', 'greek dress creami flavor', 'overal think would take parent place made similar complaint silent felt', 'pizza good peanut sauc tasti', 'tabl servic pretti fast', 'fantast servic', 'well would given godfath zero star possibl', 'know make', 'tough short flavor', 'hope place stick around', 'bar vega not ever recal charg tap water', 'restaur atmospher exquisit', 'good servic clean inexpens boot', 'seafood fresh gener portion', 'plu buck', 'servic not par either', 'thu far visit twice food absolut delici time', 'good year ago', 'self proclaim coffe cafe wildli disappoint', 'veggitarian platter world', 'cant go wrong food', 'beat', 'stop place madison ironman friendli kind staff', 'chef friendli good job', 'better not dedic boba tea spot even jenni pho', 'like patio servic outstand', 'goat taco skimp meat wow flavor', 'think not', 'mac salad pretti bland not get', 'went bachi burger friend recommend not disappoint', 'servic stink', 'wait wait', 'place not qualiti sushi not qualiti restaur', 'would definit recommend wing well pizza', 'great pizza salad', 'thing went wrong burn saganaki', 'wait hour breakfast could done time better home', 'place amaz', 'hate disagre fellow yelper husband disappoint place', 'wait hour never got either pizza mani around us came later', 'know slow', 'staff great food delish incred beer select', 'live neighborhood disappoint back conveni locat', 'know pull pork could soooo delici', 'get incred fresh fish prepar care', 'go gave star rate pleas know third time eat bachi burger write review', 'love fact everyth menu worth', 'never dine place', 'food excel servic good', 'good beer drink select good food select', 'pleas stay away shrimp stir fri noodl', 'potato chip order sad could probabl count mani chip box probabl around', 'food realli bore', 'good servic check', 'greedi corpor never see anoth dime', 'never ever go back', 'much like go back get pass atroci servic never return', 'summer dine charm outdoor patio delight', 'not expect good', 'fantast food', 'order toast english muffin came untoast', 'food good', 'never go back', 'great food price high qualiti hous made', 'bu boy hand rude', 'point friend basic figur place joke mind make publicli loudli known', 'back good bbq lighter fare reason price tell public back old way', 'consid two us left full happi go wrong', 'bread made hous', 'downsid servic', 'also fri without doubt worst fri ever', 'servic except food good review', 'coupl month later return amaz meal', 'favorit place town shawarrrrrrma', 'black eye pea sweet potato unreal', 'disappoint', 'could serv vinaigrett may make better overal dish still good', 'go far mani place never seen restaur serv egg breakfast especi', 'mom got home immedi got sick bite salad', 'server not pleasant deal alway honor pizza hut coupon', 'truli unbeliev good glad went back', 'fantast servic pleas atmospher', 'everyth gross', 'love place', 'great servic food', 'first bathroom locat dirti seat cover not replenish plain yucki', 'burger got gold standard burger kind disappoint', 'omg food delicioso', 'noth authent place', 'spaghetti noth special whatsoev', 'dish salmon best great', 'veget fresh sauc feel like authent thai', 'worth drive tucson', 'select probabl worst seen vega none', 'pretti good beer select', 'place like chipotl better', 'classi warm atmospher fun fresh appet succul steak basebal steak', 'star brick oven bread app', 'eaten multipl time time food delici', 'sat anoth ten minut final gave left', 'terribl', 'everyon treat equal special', 'take min pancak egg', 'delici', 'good side staff genuin pleasant enthusiast real treat', 'sadli gordon ramsey steak place shall sharpli avoid next trip vega', 'alway even wonder food delici', 'best fish ever life', 'bathroom next door nice', 'buffet small food offer bland', 'outstand littl restaur best food ever tast', 'pretti cool would say', 'definit turn doubt back unless someon els buy', 'server great job handl larg rowdi tabl', 'find wast food despic food', 'wife lobster bisqu soup lukewarm', 'would come back sushi crave vega', 'staff great ambianc great', 'deserv star', 'left stomach ach felt sick rest day', 'drop ball', 'dine space tini elegantli decor comfort', 'custom order way like usual eggplant green bean stir fri love', 'bean rice mediocr best', 'best taco town far', 'took back money got outta', 'interest part town place amaz', 'rude inconsider manag', 'staff not friendli wait time serv horribl one even say hi first minut', 'back', 'great dinner', 'servic outshin definit recommend halibut', 'food terribl', 'never ever go back told mani peopl happen', 'recommend unless car break front starv', 'come back everi time vega', 'place deserv one star food', 'disgrac', 'def come back bowl next time', 'want healthi authent ethic food tri place', 'continu come ladi night andddd date night highli recommend place anyon area', 'sever time past experi alway great', 'walk away stuf happi first vega buffet experi', 'servic excel price pretti reason consid vega locat insid crystal shop mall aria', 'summar food incred nay transcend noth bring joy quit like memori pneumat condiment dispens', 'probabl one peopl ever go ian not like', 'kid pizza alway hit lot great side dish option kiddo', 'servic perfect famili atmospher nice see', 'cook perfect servic impecc', 'one simpli disappoint', 'overal disappoint qualiti food bouchon', 'account know get screw', 'great place eat remind littl mom pop shop san francisco bay area', 'today first tast buldogi gourmet hot dog tell ever thought possibl', 'left frustrat', 'definit soon', 'food realli good got full petti fast', 'servic fantast', 'total wast time', 'know kind best ice tea', 'come hungri leav happi stuf', 'servic give star', 'assur disappoint', 'take littl bad servic food suck', 'gave tri eat crust teeth still sore', 'complet gross', 'realli enjoy eat', 'first time go think quickli becom regular', 'server nice even though look littl overwhelm need stay profession friendli end', 'dinner companion told everyth fresh nice textur tast', 'ground right next tabl larg smear step track everywher pile green bird poop', 'furthermor even find hour oper websit', 'tri like place time think done', 'mistak', 'complaint', 'serious good pizza expert connisseur topic', 'waiter jerk', 'strike want rush', 'nicest restaur owner ever come across', 'never come', 'love biscuit', 'servic quick friendli', 'order appet took minut pizza anoth minut', 'absolutley fantast', 'huge awkward lb piec cow th gristl fat', 'definit come back', 'like steiner dark feel like bar', 'wow spici delici', 'not familiar check', 'take busi dinner dollar elsewher', 'love go back', 'anyway fs restaur wonder breakfast lunch', 'noth special', 'day week differ deal delici', 'not mention combin pear almond bacon big winner', 'not back', 'sauc tasteless', 'food delici spici enough sure ask spicier prefer way', 'ribey steak cook perfectli great mesquit flavor', 'think go back anytim soon', 'food gooodd', 'far sushi connoisseur definit tell differ good food bad food certainli bad food', 'insult', 'last time lunch bad', 'chicken wing contain driest chicken meat ever eaten', 'food good enjoy everi mouth enjoy relax venu coupl small famili group etc', 'nargil think great', 'best tater tot southwest', 'love place', 'definit not worth paid', 'vanilla ice cream creami smooth profiterol choux pastri fresh enough', 'im az time new spot', 'manag worst', 'insid realli quit nice clean', 'food outstand price reason', 'think run back carli anytim soon food', 'due fact took minut acknowledg anoth minut get food kept forget thing', 'love margarita', 'first vega buffet not disappoint', 'good though', 'one note ventil could use upgrad', 'great pork sandwich', 'wast time', 'total letdown would much rather go camelback flower shop cartel coffe', 'third chees friend burger cold', 'enjoy pizza brunch', 'steak well trim also perfectli cook', 'group claim would handl us beauti', 'love', 'ask bill leav without eat bring either', 'place jewel la vega exactli hope find nearli ten year live', 'seafood limit boil shrimp crab leg crab leg definit not tast fresh', 'select food not best', 'delici absolut back', 'small famili restaur fine dine establish', 'toro tartar cavier extraordinari like thinli slice wagyu white truffl', 'dont think back long time', 'attach ga station rare good sign', 'awesom', 'back mani time soon', 'menu much good stuff could not decid', 'wors humili worker right front bunch horribl name call', 'conclus fill meal', 'daili special alway hit group', 'tragedi struck', 'pancak also realli good pretti larg', 'first crawfish experi delici', 'monster chicken fri steak egg time favorit', 'waitress sweet funni', 'also tast mom multi grain pumpkin pancak pecan butter amaz fluffi delici', 'rather eat airlin food serious', 'cant say enough good thing place', 'ambianc incred', 'waitress manag friendli', 'would not recommend place', 'overal impress noca', 'gyro basic lettuc', 'terribl servic', 'thoroughli disappoint', 'much pasta love homemad hand made pasta thin pizza', 'give tri happi', 'far best cheesecurd ever', 'reason price also', 'everyth perfect night', 'food good typic bar food', 'drive get', 'first glanc love bakeri cafe nice ambianc clean friendli staff', 'anyway not think go back', 'point finger item menu order disappoint', 'oh thing beauti restaur', 'gone go', 'greasi unhealthi meal', 'first time might last', 'burger amaz', 'similarli deliveri man not say word apolog food minut late', 'way expens', 'sure order dessert even need pack go tiramisu cannoli die', 'first time wait next', 'bartend also nice', 'everyth good tasti', 'place two thumb way', 'best place vega breakfast check sat sun', 'love authent mexican food want whole bunch interest yet delici meat choos need tri place', 'terribl manag', 'excel new restaur experienc frenchman', 'zero star would give zero star', 'great steak great side great wine amaz dessert', 'worst martini ever', 'steak shrimp opinion best entre gc', 'opportun today sampl amaz pizza', 'wait thirti minut seat although vacant tabl folk wait', 'yellowtail carpaccio melt mouth fresh', 'tri go back even empti', 'go eat potato found stranger hair', 'spici enough perfect actual', 'last night second time dine happi decid go back', 'not even hello right', 'dessert bit strang', 'boyfriend came first time recent trip vega could not pleas qualiti food servic', 'realli recommend place go wrong donut place', 'nice ambianc', 'would recommend save room', 'guess mayb went night disgrac', 'howev recent experi particular locat not good', 'know not like restaur someth', 'avoid establish', 'think restaur suffer not tri hard enough', 'tapa dish delici', 'heart place', 'salad bland vinegrett babi green heart palm', 'two felt disgust', 'good time', 'believ place great stop huge belli hanker sushi', 'gener portion great tast', 'never go back place never ever recommend place anyon', 'server went back forth sever time not even much help', 'food delici', 'hour serious', 'consid theft', 'eew locat need complet overhaul', 'recent wit poor qualiti manag toward guest well', 'wait wait wait', 'also came back check us regularli excel servic', 'server super nice check us mani time', 'pizza tast old super chewi not good way', 'swung give tri deepli disappoint', 'servic good compani better', 'staff also friendli effici', 'servic fan quick serv nice folk', 'boy sucker dri', 'rate', 'look authent thai food go els', 'steak recommend', 'pull car wait anoth minut acknowledg', 'great food great servic clean friendli set', 'assur back', 'hate thing much cheap qualiti black oliv', 'breakfast perpar great beauti present giant slice toast lightli dust powder sugar', 'kid play area nasti', 'great place fo take eat', 'waitress friendli happi accomod vegan veggi option', 'omg felt like never eaten thai food dish', 'extrem crumbi pretti tasteless', 'pale color instead nice char flavor', 'crouton also tast homemad extra plu', 'got home see driest damn wing ever', 'regular stop trip phoenix', 'realli enjoy crema caf expand even told friend best breakfast', 'not good money', 'miss wish one philadelphia', 'got sit fairli fast end wait minut place order anoth minut food arriv', 'also best chees crisp town', 'good valu great food great servic', 'ask satisfi meal', 'food good', 'awesom', 'want leav', 'made drive way north scottsdal not one bit disappoint', 'not eat', 'owner realli realli need quit soooooo cheap let wrap freak sandwich two paper not one', 'check place coupl year ago not impress', 'chicken got definit reheat ok wedg cold soggi', 'sorri not get food anytim soon', 'absolut must visit', 'cow tongu cheek taco amaz', 'friend not like bloodi mari', 'despit hard rate busi actual rare give star', 'realli want make experi good one', 'not return', 'chicken pho tast bland', 'disappoint', 'grill chicken tender yellow saffron season', 'drive thru mean not want wait around half hour food somehow end go make us wait wait', 'pretti awesom place', 'ambienc perfect', 'best luck rude non custom servic focus new manag', 'grandmoth make roast chicken better one', 'ask multipl time wine list time ignor went hostess got one', 'staff alway super friendli help especi cool bring two small boy babi', 'four star food guy blue shirt great vibe still let us eat', 'roast beef sandwich tast realli good', 'even drastic sick', 'high qualiti chicken chicken caesar salad', 'order burger rare came done', 'promptli greet seat', 'tri go lunch madhous', 'proven dead wrong sushi bar not qualiti great servic fast food impecc', 'wait hour seat not greatest mood', 'good joint', 'macaron insan good', 'not eat', 'waiter attent friendli inform', 'mayb cold would somewhat edibl', 'place lot promis fail deliv', 'bad experi', 'mistak', 'food averag best', 'great food', 'go back anytim soon', 'disappoint order big bay plater', 'great place relax awesom burger beer', 'perfect sit famili meal get togeth friend', 'not much flavor poorli construct', 'patio seat comfort', 'fri rice dri well', 'hand favorit italian restaur', 'scream legit book somethat also pretti rare vega', 'not fun experi', 'atmospher great love duo violinist play song request', 'person love hummu pita baklava falafel baba ganoush amaz eggplant', 'conveni sinc stay mgm', 'owner super friendli staff courteou', 'great', 'eclect select', 'sweet potato tot good onion ring perfect close', 'staff attent', 'chef gener time even came around twice take pictur', 'owner use work nobu place realli similar half price', 'googl mediocr imagin smashburg pop', 'dont go', 'promis disappoint', 'sushi lover avoid place mean', 'great doubl cheeseburg', 'awesom servic food', 'fantast neighborhood gem', 'wait go back', 'plantain worst ever tast', 'great place highli recommend', 'servic slow not attent', 'gave star give star', 'staff spend time talk', 'dessert panna cotta amaz', 'good food great atmospher', 'damn good steak', 'total brunch fail', 'price reason flavor spot sauc home made slaw not drench mayo', 'decor nice piano music soundtrack pleasant', 'steak amaz rge fillet relleno best seafood plate ever', 'good food good servic', 'absolut amaz', 'probabl back honest', 'definit back', 'sergeant pepper beef sandwich auju sauc excel sandwich well', 'hawaiian breez mango magic pineappl delight smoothi tri far good', 'went lunch servic slow', 'much say place walk expect amaz quickli disappoint', 'mortifi', 'needless say never back', 'anyway food definit not fill price pay expect', 'chip came drip greas mostli not edibl', 'realli impress strip steak', 'go sinc everi meal awesom', 'server nice attent serv staff', 'cashier friendli even brought food', 'work hospit industri paradis valley refrain recommend cibo longer', 'atmospher fun', 'would not recommend other', 'servic quick even go order like like', 'mean realli get famou fish chip terribl', 'said mouth belli still quit pleas', 'not thing', 'thumb', 'read pleas go', 'love grill pizza remind legit italian pizza', 'pro larg seat area nice bar area great simpl drink menu best brick oven pizza homemad dough', 'realli nice atmospher', 'tonight elk filet special suck', 'one bite hook', 'order old classic new dish go time sore disappoint everyth', 'cute quaint simpl honest', 'chicken delici season perfect fri outsid moist chicken insid', 'food great alway compliment chef', 'special thank dylan recommend order yummi tummi', 'awesom select beer', 'great food awesom servic', 'one nice thing ad gratuiti bill sinc parti larger expect tip', 'fli appl juic fli', 'han nan chicken also tasti', 'servic thought good', 'food bare lukewarm must sit wait server bring us', 'ryan bar definit one edinburgh establish revisit', 'nicest chines restaur', 'overal like food servic', 'also serv indian naan bread hummu spici pine nut sauc world', 'probabl never come back recommend', 'friend pasta also bad bare touch', 'tri airport experi tasti food speedi friendli servic', 'love decor chines calligraphi wall paper', 'never anyth complain', 'restaur clean famili restaur feel', 'way fri', 'not sure long stood long enough begin feel awkwardli place', 'open sandwich impress not good way', 'not back', 'warm feel servic felt like guest special treat', 'extens menu provid lot option breakfast', 'alway order vegetarian menu dinner wide array option choos', 'watch price inflat portion get smaller manag attitud grow rapidli', 'wonder lil tapa ambienc made feel warm fuzzi insid', 'got enjoy seafood salad fabul vinegrett', 'wonton thin not thick chewi almost melt mouth', 'level spici perfect spice whelm soup', 'sat right time server get go fantast', 'main thing enjoy crowd older crowd around mid', 'side town definit spot hit', 'wait minut get drink longer get arepa', 'great place eat', 'jalapeno bacon soooo good', 'servic poor that nice', 'food good servic good price good', 'place not clean food oh stale', 'chicken dish ok beef like shoe leather', 'servic beyond bad', 'happi', 'tast like dirt', 'one place phoenix would defin go back', 'block amaz', 'close hous low key non fanci afford price good food', 'hot sour egg flower soup absolut star', 'sashimi poor qualiti soggi tasteless', 'great time famili dinner sunday night', 'food not tasti not say real tradit hunan style', 'bother slow servic', 'flair bartend absolut amaz', 'frozen margarita way sugari tast', 'good order twice', 'nutshel restaraunt smell like combin dirti fish market sewer', 'girlfriend veal bad', 'unfortun not good', 'pretti satifi experi', 'join club get awesom offer via email', 'perfect someon like beer ice cold case even colder', 'bland flavorless good way describ bare tepid meat', 'chain fan beat place easili', 'nacho must', 'not come back', 'mani word say place everyth pretti well', 'staff super nice quick even crazi crowd downtown juri lawyer court staff', 'great atmospher friendli fast servic', 'receiv pita huge lot meat thumb', 'food arriv meh', 'pay hot dog fri look like came kid meal wienerschnitzel not idea good meal', 'classic main lobster roll fantast', 'brother law work mall ate day guess sick night', 'good go review place twice herea tribut place tribut event held last night', 'chip salsa realli good salsa fresh', 'place great', 'mediocr food', 'get insid impress place', 'super pissd', 'servic super friendli', 'sad littl veget overcook', 'place nice surpris', 'golden crispi delici', 'high hope place sinc burger cook charcoal grill unfortun tast fell flat way flat', 'could eat bruschetta day devin', 'not singl employe came see ok even need water refil final serv us food', 'lastli mozzarella stick best thing order', 'first time ever came amaz experi still tell peopl awesom duck', 'server neglig need made us feel unwelcom would not suggest place', 'servic terribl though', 'place overpr not consist boba realli overpr', 'pack', 'love place', 'say dessert yummi', 'food terribl', 'season fruit fresh white peach pure', 'kept get wors wors offici done', 'place honestli blown', 'definit would not eat', 'not wast money', 'love put food nice plastic contain oppos cram littl paper takeout box', 'cr pe delic thin moist', 'aw servic', 'ever go', 'food qualiti horribl', 'price think place would much rather gone', 'servic fair best', 'love sushi found kabuki price hip servic', 'favor stay away dish', 'poor servic', 'one tabl thought food averag worth wait', 'best servic food ever maria server good friendli made day', 'excel', 'paid bill not tip felt server terribl job', 'lunch great experi', 'never bland food surpris consid articl read focus much spice flavor', 'food way overpr portion fuck small', 'recent tri caballero back everi week sinc', 'buck head realli expect better food', 'food came good pace', 'ate twice last visit especi enjoy salmon salad', 'back', 'could not believ dirti oyster', 'place deserv star', 'would not recommend place', 'fact go round star awesom', 'disbelief dish qualifi worst version food ever tast', 'bad day not low toler rude custom servic peopl job nice polit wash dish otherwis', 'potato great biscuit', 'probabl would not go', 'flavor perfect amount heat', 'price reason servic great', 'wife hate meal coconut shrimp friend realli not enjoy meal either', 'fella got huevo ranchero look appeal', 'went happi hour great list wine', 'may say buffet pricey think get pay place get quit lot', 'probabl come back', 'worst food servic', 'place pretti good nice littl vibe restaur', 'talk great custom servic cours back', 'hot dish not hot cold dish close room temp watch staff prepar food bare hand glove everyth deep fri oil', 'love fri bean', 'alway pleasur deal', 'plethora salad sandwich everyth tri get seal approv', 'place awesom want someth light healthi summer', 'sushi strip place go', 'servic great even manag came help tabl', 'feel dine room colleg cook cours high class dine servic slow best', 'start review two star edit give one', 'worst sushi ever eat besid costco', 'excel restaur highlight great servic uniqu menu beauti set', 'boyfriend sat bar complet delight experi', 'weird vibe owner', 'hardli meat', 'better bagel groceri store', 'go place gyro', 'love owner chef one authent japanes cool dude', 'burger good pizza use amaz doughi flavorless', 'found six inch long piec wire salsa', 'servic terribl food mediocr', 'defin enjoy', 'order albondiga soup warm tast like tomato soup frozen meatbal', 'three differ occas ask well done medium well three time got bloodiest piec meat plate', 'two bite refus eat anymor', 'servic extrem slow', 'minut wait got tabl', 'serious killer hot chai latt', 'allergi warn menu waitress absolut clue meal not contain peanut', 'boyfriend tri mediterranean chicken salad fell love', 'rotat beer tap also highlight place', 'price bit concern mellow mushroom', 'worst thai ever', 'stay vega must get breakfast least', 'want first say server great perfect servic', 'pizza select good', 'strawberri tea good', 'highli unprofession rude loyal patron', 'overal great experi', 'spend money elsewher', 'regular toast bread equal satisfi occasion pat butter mmmm', 'buffet bellagio far anticip', 'drink weak peopl', 'order not correct', 'also feel like chip bought not made hous', 'disappoint dinner went elsewher dessert', 'chip sal amaz', 'return', 'new fav vega buffet spot', 'serious cannot believ owner mani unexperienc employe run around like chicken head cut', 'sad', 'felt insult disrespect could talk judg anoth human like', 'call steakhous properli cook steak understand', 'not impress concept food', 'thing crazi guacamol like pur ed', 'realli noth postino hope experi better', 'got food poison buffet', 'brought fresh batch fri think yay someth warm', 'hilari yummi christma eve dinner rememb biggest fail entir trip us', 'needless say go back anytim soon', 'place disgust', 'everi time eat see care teamwork profession degre', 'ri style calamari joke', 'howev much garlic fondu bare edibl', 'could bare stomach meal complain busi lunch', 'bad lost heart finish', 'also took forev bring us check ask', 'one make scene restaur get definit lost love one', 'disappoint experi', 'food par denni say not good', 'want wait mediocr food downright terribl servic place', 'waaaaaayyyyyyyyyi rate say', 'go back', 'place fairli clean food simpli worth', 'place lack style', 'sangria half glass wine full ridicul', 'bother come', 'meat pretti dri slice brisket pull pork', 'build seem pretti neat bathroom pretti trippi eat', 'equal aw', 'probabl not hurri go back', 'slow seat even reserv', 'not good stretch imagin', 'cashew cream sauc bland veget undercook', 'chipolt ranch dip saus tasteless seem thin water heat', 'bit sweet not realli spici enough lack flavor', 'disappoint', 'place horribl way overpr', 'mayb vegetarian fare twice thought averag best', 'busi know', 'tabl outsid also dirti lot time worker not alway friendli help menu', 'ambianc not feel like buffet set douchey indoor garden tea biscuit', 'con spotti servic', 'fri not hot neither burger', 'came back cold', 'food came disappoint ensu', 'real disappoint waiter', 'husband said rude not even apolog bad food anyth', 'reason eat would fill night bing drink get carb stomach', 'insult profound deuchebaggeri go outsid smoke break serv solidifi', 'someon order two taco think may part custom servic ask combo ala cart', 'quit disappoint although blame need place door', 'rave review wait eat disappoint', 'del taco pretti nasti avoid possibl', 'not hard make decent hamburg', 'like', 'hell go back', 'gotten much better servic pizza place next door servic receiv restaur', 'know big deal place back ya', 'immedi said want talk manag not want talk guy shot firebal behind bar', 'ambianc much better', 'unfortun set us disapppoint entre', 'food good', 'server suck wait correct server heimer suck', 'happen next pretti put', 'bad caus know famili own realli want like place', 'overpr get', 'vomit bathroom mid lunch', 'kept look time soon becom minut yet still food', 'place eat circumst would ever return top list', 'start tuna sashimi brownish color obvious fresh', 'food averag', 'sure beat nacho movi would expect littl bit come restaur', 'ha long bay bit flop', 'problem charg sandwich bigger subway sub offer better amount veget', 'shrimp unwrap live mile brushfir liter ice cold', 'lack flavor seem undercook dri', 'realli impress place close', 'would avoid place stay mirag', 'refri bean came meal dri crusti food bland', 'spend money time place els', 'ladi tabl next us found live green caterpillar salad', 'present food aw', 'tell disappoint', 'think food flavor textur lack', 'appetit instantli gone', 'overal not impress would not go back', 'whole experi underwhelm think go ninja sushi next time', 'wast enough life pour salt wound draw time took bring check']\n"
          ]
        }
      ]
    },
    {
      "cell_type": "markdown",
      "metadata": {
        "id": "CLqmAkANCp1-"
      },
      "source": [
        "## Creating the Bag of Words model"
      ]
    },
    {
      "cell_type": "code",
      "metadata": {
        "id": "qroF7XcSCvY3",
        "colab": {
          "base_uri": "https://localhost:8080/"
        },
        "collapsed": true,
        "outputId": "b97028aa-3237-48c2-91aa-8e818d0ae651"
      },
      "source": [
        "from sklearn.feature_extraction.text import CountVectorizer\n",
        "cv = CountVectorizer(max_features = 1500)\n",
        "X = cv.fit_transform(corpus).toarray()\n",
        "y = dataset.iloc[:, -1].values\n",
        "print(cv.vocabulary_)"
      ],
      "execution_count": null,
      "outputs": [
        {
          "output_type": "stream",
          "name": "stdout",
          "text": [
            "{'wow': np.int64(1483), 'love': np.int64(773), 'place': np.int64(1000), 'crust': np.int64(301), 'not': np.int64(894), 'good': np.int64(565), 'tasti': np.int64(1334), 'textur': np.int64(1346), 'nasti': np.int64(871), 'stop': np.int64(1283), 'late': np.int64(733), 'may': np.int64(805), 'bank': np.int64(69), 'holiday': np.int64(638), 'rick': np.int64(1121), 'steve': np.int64(1276), 'recommend': np.int64(1087), 'select': np.int64(1177), 'menu': np.int64(823), 'great': np.int64(579), 'price': np.int64(1034), 'get': np.int64(549), 'angri': np.int64(26), 'want': np.int64(1456), 'damn': np.int64(310), 'pho': np.int64(988), 'honeslti': np.int64(641), 'tast': np.int64(1332), 'fresh': np.int64(524), 'potato': np.int64(1026), 'like': np.int64(756), 'rubber': np.int64(1135), 'could': np.int64(274), 'tell': np.int64(1339), 'made': np.int64(784), 'ahead': np.int64(8), 'time': np.int64(1368), 'kept': np.int64(716), 'fri': np.int64(525), 'touch': np.int64(1386), 'servic': np.int64(1186), 'prompt': np.int64(1046), 'would': np.int64(1481), 'go': np.int64(559), 'back': np.int64(60), 'cashier': np.int64(190), 'care': np.int64(182), 'ever': np.int64(438), 'say': np.int64(1162), 'still': np.int64(1278), 'end': np.int64(422), 'overpr': np.int64(939), 'tri': np.int64(1396), 'cape': np.int64(178), 'cod': np.int64(236), 'ravoli': np.int64(1077), 'chicken': np.int64(213), 'cranberri': np.int64(287), 'mmmm': np.int64(843), 'disgust': np.int64(361), 'pretti': np.int64(1033), 'sure': np.int64(1318), 'human': np.int64(658), 'hair': np.int64(599), 'shock': np.int64(1195), 'sign': np.int64(1206), 'indic': np.int64(680), 'cash': np.int64(188), 'highli': np.int64(631), 'waitress': np.int64(1453), 'littl': np.int64(762), 'slow': np.int64(1219), 'worth': np.int64(1480), 'let': np.int64(748), 'alon': np.int64(16), 'vega': np.int64(1438), 'burritto': np.int64(159), 'blah': np.int64(110), 'food': np.int64(510), 'amaz': np.int64(20), 'also': np.int64(17), 'cute': np.int64(308), 'less': np.int64(747), 'interior': np.int64(694), 'beauti': np.int64(85), 'perform': np.int64(980), 'right': np.int64(1123), 'red': np.int64(1088), 'velvet': np.int64(1444), 'cake': np.int64(169), 'ohhh': np.int64(908), 'stuff': np.int64(1296), 'never': np.int64(880), 'brought': np.int64(145), 'salad': np.int64(1146), 'ask': np.int64(38), 'hole': np.int64(637), 'wall': np.int64(1455), 'mexican': np.int64(827), 'street': np.int64(1288), 'taco': np.int64(1324), 'friendli': np.int64(528), 'staff': np.int64(1264), 'took': np.int64(1380), 'hour': np.int64(653), 'tabl': np.int64(1323), 'restaur': np.int64(1111), 'luke': np.int64(779), 'warm': np.int64(1457), 'sever': np.int64(1188), 'run': np.int64(1137), 'around': np.int64(36), 'total': np.int64(1385), 'overwhelm': np.int64(940), 'worst': np.int64(1479), 'salmon': np.int64(1147), 'sashimi': np.int64(1155), 'combo': np.int64(243), 'burger': np.int64(157), 'beer': np.int64(88), 'decent': np.int64(317), 'deal': np.int64(316), 'final': np.int64(486), 'blow': np.int64(119), 'found': np.int64(517), 'happier': np.int64(610), 'seem': np.int64(1175), 'quick': np.int64(1064), 'grab': np.int64(572), 'bite': np.int64(108), 'familiar': np.int64(465), 'pub': np.int64(1051), 'favor': np.int64(473), 'look': np.int64(768), 'elsewher': np.int64(418), 'overal': np.int64(936), 'lot': np.int64(771), 'redeem': np.int64(1089), 'qualiti': np.int64(1062), 'inexpens': np.int64(683), 'ampl': np.int64(24), 'portion': np.int64(1022), 'poor': np.int64(1018), 'waiter': np.int64(1452), 'feel': np.int64(476), 'stupid': np.int64(1297), 'everi': np.int64(439), 'came': np.int64(173), 'first': np.int64(493), 'visit': np.int64(1448), 'hiro': np.int64(635), 'delight': np.int64(332), 'suck': np.int64(1304), 'shrimp': np.int64(1203), 'tender': np.int64(1342), 'moist': np.int64(845), 'enough': np.int64(425), 'drag': np.int64(381), 'establish': np.int64(432), 'hard': np.int64(611), 'judg': np.int64(712), 'side': np.int64(1205), 'gross': np.int64(589), 'melt': np.int64(820), 'styrofoam': np.int64(1299), 'eat': np.int64(401), 'fear': np.int64(475), 'sick': np.int64(1204), 'posit': np.int64(1023), 'note': np.int64(895), 'server': np.int64(1185), 'attent': np.int64(43), 'provid': np.int64(1050), 'frozen': np.int64(530), 'puck': np.int64(1054), 'peopl': np.int64(976), 'behind': np.int64(90), 'regist': np.int64(1096), 'thing': np.int64(1354), 'prime': np.int64(1036), 'rib': np.int64(1117), 'dessert': np.int64(343), 'section': np.int64(1173), 'bad': np.int64(62), 'gener': np.int64(547), 'beef': np.int64(87), 'cook': np.int64(266), 'sandwich': np.int64(1153), 'firehous': np.int64(492), 'greek': np.int64(582), 'dress': np.int64(386), 'pita': np.int64(998), 'hummu': np.int64(660), 'refresh': np.int64(1093), 'order': np.int64(924), 'duck': np.int64(394), 'rare': np.int64(1071), 'pink': np.int64(996), 'insid': np.int64(688), 'nice': np.int64(883), 'char': np.int64(200), 'outsid': np.int64(932), 'us': np.int64(1431), 'realiz': np.int64(1081), 'husband': np.int64(664), 'left': np.int64(742), 'sunglass': np.int64(1315), 'chow': np.int64(221), 'mein': np.int64(818), 'horribl': np.int64(647), 'attitud': np.int64(44), 'toward': np.int64(1388), 'custom': np.int64(306), 'talk': np.int64(1328), 'one': np.int64(916), 'enjoy': np.int64(424), 'huge': np.int64(657), 'wonder': np.int64(1472), 'imagin': np.int64(671), 'heart': np.int64(620), 'attack': np.int64(42), 'grill': np.int64(585), 'downtown': np.int64(380), 'absolut': np.int64(0), 'flat': np.int64(497), 'line': np.int64(759), 'excus': np.int64(448), 'much': np.int64(858), 'seafood': np.int64(1168), 'string': np.int64(1291), 'pasta': np.int64(962), 'bottom': np.int64(130), 'amount': np.int64(23), 'sauc': np.int64(1159), 'power': np.int64(1029), 'scallop': np.int64(1163), 'perfectli': np.int64(979), 'rip': np.int64(1126), 'banana': np.int64(68), 'petrifi': np.int64(984), 'tasteless': np.int64(1333), 'least': np.int64(739), 'think': np.int64(1355), 'refil': np.int64(1091), 'water': np.int64(1460), 'struggl': np.int64(1294), 'minut': np.int64(838), 'receiv': np.int64(1085), 'star': np.int64(1267), 'appet': np.int64(34), 'cocktail': np.int64(234), 'handmad': np.int64(606), 'delici': np.int64(330), 'definit': np.int64(326), 'glad': np.int64(554), 'give': np.int64(552), 'militari': np.int64(833), 'discount': np.int64(359), 'alway': np.int64(19), 'do': np.int64(366), 'gringo': np.int64(586), 'updat': np.int64(1428), 'went': np.int64(1464), 'second': np.int64(1172), 'got': np.int64(569), 'heard': np.int64(619), 'salt': np.int64(1149), 'batter': np.int64(79), 'fish': np.int64(494), 'chewi': np.int64(212), 'way': np.int64(1461), 'finish': np.int64(490), 'includ': np.int64(676), 'drink': np.int64(389), 'jeff': np.int64(702), 'beyond': np.int64(97), 'expect': np.int64(450), 'realli': np.int64(1082), 'rice': np.int64(1119), 'meh': np.int64(817), 'min': np.int64(836), 'milkshak': np.int64(835), 'noth': np.int64(896), 'chocol': np.int64(218), 'milk': np.int64(834), 'guess': np.int64(594), 'known': np.int64(725), 'excalibur': np.int64(444), 'use': np.int64(1432), 'common': np.int64(246), 'sens': np.int64(1180), 'dish': np.int64(362), 'quit': np.int64(1066), 'valu': np.int64(1435), 'well': np.int64(1463), 'sweet': np.int64(1321), 'season': np.int64(1170), 'today': np.int64(1373), 'lunch': np.int64(781), 'buffet': np.int64(152), 'cheat': np.int64(205), 'wast': np.int64(1458), 'opportun': np.int64(921), 'compani': np.int64(247), 'come': np.int64(244), 'experienc': np.int64(453), 'underwhelm': np.int64(1415), 'relationship': np.int64(1100), 'parti': np.int64(958), 'wait': np.int64(1451), 'person': np.int64(983), 'break': np.int64(138), 'walk': np.int64(1454), 'smell': np.int64(1224), 'old': np.int64(911), 'greas': np.int64(577), 'trap': np.int64(1394), 'other': np.int64(926), 'turkey': np.int64(1406), 'roast': np.int64(1128), 'bland': np.int64(112), 'pan': np.int64(950), 'everyon': np.int64(440), 'rave': np.int64(1076), 'sugari': np.int64(1308), 'disast': np.int64(357), 'tailor': np.int64(1325), 'palat': np.int64(947), 'six': np.int64(1215), 'year': np.int64(1490), 'spring': np.int64(1262), 'roll': np.int64(1130), 'oh': np.int64(907), 'yummi': np.int64(1498), 'meat': np.int64(810), 'ratio': np.int64(1075), 'unsatisfi': np.int64(1424), 'omelet': np.int64(914), 'die': np.int64(346), 'everyth': np.int64(441), 'summari': np.int64(1311), 'larg': np.int64(729), 'disappoint': np.int64(355), 'dine': np.int64(349), 'experi': np.int64(452), 'sexi': np.int64(1190), 'mouth': np.int64(854), 'outrag': np.int64(930), 'flirt': np.int64(502), 'hottest': np.int64(652), 'rock': np.int64(1129), 'casino': np.int64(191), 'step': np.int64(1275), 'forward': np.int64(516), 'best': np.int64(95), 'breakfast': np.int64(139), 'bye': np.int64(164), 'tip': np.int64(1370), 'ladi': np.int64(728), 'arriv': np.int64(37), 'quickli': np.int64(1065), 'cafe': np.int64(168), 'serv': np.int64(1184), 'fantast': np.int64(467), 'wife': np.int64(1468), 'garlic': np.int64(543), 'bone': np.int64(125), 'marrow': np.int64(802), 'ad': np.int64(4), 'extra': np.int64(457), 'meal': np.int64(808), 'anoth': np.int64(28), 'help': np.int64(627), 'bloddi': np.int64(116), 'mari': np.int64(799), 'town': np.int64(1389), 'cannot': np.int64(176), 'beat': np.int64(83), 'mussel': np.int64(864), 'wine': np.int64(1469), 'reduct': np.int64(1090), 'better': np.int64(96), 'tigerlilli': np.int64(1367), 'afternoon': np.int64(6), 'bartend': np.int64(73), 'ambienc': np.int64(22), 'music': np.int64(863), 'play': np.int64(1007), 'next': np.int64(882), 'trip': np.int64(1399), 'sooooo': np.int64(1241), 'real': np.int64(1080), 'sushi': np.int64(1320), 'lover': np.int64(774), 'honest': np.int64(642), 'yama': np.int64(1488), 'pass': np.int64(960), 'busi': np.int64(160), 'thai': np.int64(1348), 'spici': np.int64(1256), 'check': np.int64(206), 'atmospher': np.int64(41), 'kind': np.int64(722), 'mess': np.int64(825), 'steak': np.int64(1272), 'although': np.int64(18), 'sound': np.int64(1245), 'actual': np.int64(3), 'bit': np.int64(106), 'know': np.int64(724), 'manag': np.int64(794), 'blandest': np.int64(113), 'eaten': np.int64(402), 'prepar': np.int64(1031), 'indian': np.int64(679), 'cuisin': np.int64(304), 'boot': np.int64(127), 'worri': np.int64(1477), 'fine': np.int64(488), 'guy': np.int64(596), 'son': np.int64(1237), 'said': np.int64(1144), 'thought': np.int64(1361), 'ventur': np.int64(1445), 'away': np.int64(51), 'hit': np.int64(636), 'spot': np.int64(1260), 'night': np.int64(885), 'host': np.int64(649), 'lack': np.int64(727), 'word': np.int64(1473), 'bitch': np.int64(107), 'number': np.int64(898), 'reason': np.int64(1083), 'review': np.int64(1113), 'leav': np.int64(741), 'phenomen': np.int64(986), 'ambianc': np.int64(21), 'return': np.int64(1112), 'strip': np.int64(1292), 'pork': np.int64(1021), 'belli': np.int64(93), 'mediocr': np.int64(813), 'penn': np.int64(975), 'vodka': np.int64(1449), 'excel': np.int64(446), 'massiv': np.int64(804), 'meatloaf': np.int64(812), 'crispi': np.int64(296), 'wrap': np.int64(1484), 'delish': np.int64(333), 'tuna': np.int64(1405), 'rude': np.int64(1136), 'nyc': np.int64(901), 'bagel': np.int64(63), 'cream': np.int64(291), 'chees': np.int64(208), 'lox': np.int64(776), 'caper': np.int64(179), 'even': np.int64(436), 'subway': np.int64(1302), 'fact': np.int64(461), 'meet': np.int64(816), 'serious': np.int64(1182), 'solid': np.int64(1230), 'bar': np.int64(70), 'extrem': np.int64(459), 'mani': np.int64(797), 'empti': np.int64(421), 'suggest': np.int64(1309), 'ate': np.int64(40), 'curri': np.int64(305), 'bamboo': np.int64(67), 'shoot': np.int64(1197), 'blanket': np.int64(114), 'moz': np.int64(856), 'top': np.int64(1381), 'done': np.int64(369), 'cover': np.int64(281), 'subpar': np.int64(1301), 'bathroom': np.int64(78), 'clean': np.int64(229), 'decor': np.int64(320), 'chang': np.int64(199), 'consid': np.int64(260), 'pace': np.int64(944), 'thumb': np.int64(1366), 'watch': np.int64(1459), 'pay': np.int64(968), 'ignor': np.int64(669), 'fianc': np.int64(481), 'middl': np.int64(830), 'day': np.int64(314), 'greet': np.int64(584), 'seat': np.int64(1171), 'mandalay': np.int64(795), 'bay': np.int64(80), 'forti': np.int64(515), 'five': np.int64(495), 'vain': np.int64(1433), 'crostini': np.int64(297), 'stale': np.int64(1265), 'highlight': np.int64(632), 'nigiri': np.int64(886), 'joint': np.int64(709), 'differ': np.int64(347), 'cut': np.int64(307), 'piec': np.int64(992), 'flavor': np.int64(498), 'sinc': np.int64(1212), 'gluten': np.int64(558), 'free': np.int64(521), 'ago': np.int64(7), 'unfortun': np.int64(1417), 'must': np.int64(865), 'bakeri': np.int64(64), 'leftov': np.int64(743), 'reloc': np.int64(1103), 'impress': np.int64(674), 'immedi': np.int64(672), 'divers': np.int64(365), 'avoid': np.int64(49), 'cost': np.int64(271), 'full': np.int64(535), 'hand': np.int64(604), 'phoenix': np.int64(989), 'metro': np.int64(826), 'area': np.int64(35), 'treat': np.int64(1395), 'bacon': np.int64(61), 'hella': np.int64(625), 'salti': np.int64(1150), 'spinach': np.int64(1258), 'avocado': np.int64(48), 'ingredi': np.int64(686), 'sad': np.int64(1140), 'liter': np.int64(761), 'zero': np.int64(1499), 'list': np.int64(760), 'lordi': np.int64(769), 'khao': np.int64(718), 'soi': np.int64(1229), 'miss': np.int64(840), 'terrif': np.int64(1345), 'thrill': np.int64(1363), 'vegetarian': np.int64(1441), 'daughter': np.int64(313), 'perhap': np.int64(981), 'caught': np.int64(193), 'inspir': np.int64(689), 'desir': np.int64(340), 'modern': np.int64(844), 'hip': np.int64(634), 'maintain': np.int64(790), 'cozi': np.int64(283), 'haunt': np.int64(615), 'sat': np.int64(1156), 'take': np.int64(1326), 'overcook': np.int64(937), 'charcoal': np.int64(201), 'decid': np.int64(318), 'send': np.int64(1179), 'probabl': np.int64(1039), 'dirt': np.int64(352), 'someth': np.int64(1234), 'healthi': np.int64(618), 'quantiti': np.int64(1063), 'lemon': np.int64(746), 'raspberri': np.int64(1072), 'ice': np.int64(667), 'incred': np.int64(678), 'interest': np.int64(693), 'crepe': np.int64(294), 'station': np.int64(1270), 'hot': np.int64(651), 'bread': np.int64(137), 'butter': np.int64(162), 'home': np.int64(639), 'chip': np.int64(215), 'origin': np.int64(925), 'egg': np.int64(412), 'gyro': np.int64(597), 'wing': np.int64(1470), 'satisfi': np.int64(1158), 'joey': np.int64(707), 'dog': np.int64(367), 'valley': np.int64(1434), 'reader': np.int64(1079), 'magazin': np.int64(787), 'bowl': np.int64(133), 'live': np.int64(763), 'friday': np.int64(526), 'insult': np.int64(692), 'felt': np.int64(480), 'disrespect': np.int64(364), 'drive': np.int64(391), 'exceed': np.int64(445), 'hope': np.int64(646), 'dream': np.int64(384), 'serivc': np.int64(1183), 'brunch': np.int64(147), 'invit': np.int64(695), 'last': np.int64(731), 'foot': np.int64(511), 'mix': np.int64(842), 'mushroom': np.int64(862), 'yukon': np.int64(1496), 'gold': np.int64(562), 'pure': np.int64(1058), 'white': np.int64(1465), 'corn': np.int64(268), 'beateou': np.int64(84), 'bug': np.int64(153), 'show': np.int64(1201), 'given': np.int64(553), 'climb': np.int64(230), 'kitchen': np.int64(723), 'soon': np.int64(1239), 'friend': np.int64(527), 'tartar': np.int64(1331), 'though': np.int64(1360), 'soggi': np.int64(1228), 'jamaican': np.int64(700), 'mojito': np.int64(846), 'small': np.int64(1220), 'rich': np.int64(1120), 'shower': np.int64(1202), 'rins': np.int64(1125), 'unless': np.int64(1421), 'mind': np.int64(837), 'nude': np.int64(897), 'see': np.int64(1174), 'lobster': np.int64(764), 'bisqu': np.int64(105), 'bussel': np.int64(161), 'sprout': np.int64(1263), 'risotto': np.int64(1127), 'filet': np.int64(483), 'need': np.int64(875), 'pepper': np.int64(977), 'cours': np.int64(278), 'none': np.int64(891), 'bode': np.int64(123), 'someon': np.int64(1233), 'either': np.int64(414), 'cold': np.int64(238), 'date': np.int64(312), 'unbeliev': np.int64(1412), 'bargain': np.int64(72), 'folk': np.int64(508), 'otto': np.int64(928), 'make': np.int64(791), 'special': np.int64(1252), 'main': np.int64(789), 'uninspir': np.int64(1419), 'world': np.int64(1476), 'annoy': np.int64(27), 'drunk': np.int64(393), 'fun': np.int64(536), 'chef': np.int64(211), 'doubl': np.int64(373), 'cheeseburg': np.int64(209), 'singl': np.int64(1213), 'patti': np.int64(967), 'pictur': np.int64(991), 'upload': np.int64(1430), 'coupl': np.int64(276), 'sport': np.int64(1259), 'event': np.int64(437), 'tv': np.int64(1408), 'possibl': np.int64(1024), 'descript': np.int64(338), 'yum': np.int64(1497), 'eel': np.int64(408), 'yet': np.int64(1494), 'mayo': np.int64(807), 'hardest': np.int64(612), 'decis': np.int64(319), 'honestli': np.int64(643), 'suppos': np.int64(1317), 'eye': np.int64(460), 'stay': np.int64(1271), 'money': np.int64(848), 'flavour': np.int64(500), 'almost': np.int64(15), 'build': np.int64(154), 'freez': np.int64(522), 'close': np.int64(231), 'point': np.int64(1014), 'ayc': np.int64(55), 'light': np.int64(753), 'dark': np.int64(311), 'set': np.int64(1187), 'mood': np.int64(851), 'base': np.int64(74), 'sub': np.int64(1300), 'par': np.int64(954), 'effort': np.int64(411), 'gratitud': np.int64(575), 'owner': np.int64(942), 'privileg': np.int64(1037), 'work': np.int64(1474), 'creami': np.int64(292), 'parent': np.int64(956), 'similar': np.int64(1208), 'complaint': np.int64(250), 'silent': np.int64(1207), 'pizza': np.int64(999), 'peanut': np.int64(972), 'fast': np.int64(470), 'godfath': np.int64(561), 'tough': np.int64(1387), 'short': np.int64(1199), 'stick': np.int64(1277), 'recal': np.int64(1084), 'charg': np.int64(202), 'tap': np.int64(1329), 'exquisit': np.int64(455), 'plu': np.int64(1012), 'buck': np.int64(151), 'thu': np.int64(1365), 'far': np.int64(468), 'twice': np.int64(1409), 'self': np.int64(1178), 'proclaim': np.int64(1041), 'coffe': np.int64(237), 'veggitarian': np.int64(1443), 'platter': np.int64(1006), 'cant': np.int64(177), 'wrong': np.int64(1486), 'madison': np.int64(786), 'ironman': np.int64(696), 'job': np.int64(706), 'dedic': np.int64(321), 'boba': np.int64(122), 'tea': np.int64(1336), 'jenni': np.int64(703), 'patio': np.int64(965), 'outstand': np.int64(933), 'goat': np.int64(560), 'skimp': np.int64(1216), 'mac': np.int64(782), 'bachi': np.int64(59), 'stink': np.int64(1279), 'burn': np.int64(158), 'saganaki': np.int64(1143), 'hate': np.int64(614), 'disagre': np.int64(354), 'fellow': np.int64(479), 'yelper': np.int64(1493), 'later': np.int64(734), 'neighborhood': np.int64(878), 'conveni': np.int64(265), 'locat': np.int64(765), 'pull': np.int64(1055), 'soooo': np.int64(1240), 'gave': np.int64(544), 'rate': np.int64(1073), 'pleas': np.int64(1008), 'third': np.int64(1357), 'write': np.int64(1485), 'stir': np.int64(1280), 'noodl': np.int64(892), 'count': np.int64(275), 'box': np.int64(134), 'bore': np.int64(128), 'greedi': np.int64(581), 'corpor': np.int64(269), 'dime': np.int64(348), 'summer': np.int64(1312), 'charm': np.int64(203), 'outdoor': np.int64(929), 'toast': np.int64(1372), 'english': np.int64(423), 'muffin': np.int64(859), 'untoast': np.int64(1425), 'high': np.int64(630), 'hous': np.int64(654), 'bu': np.int64(150), 'boy': np.int64(135), 'basic': np.int64(76), 'figur': np.int64(482), 'joke': np.int64(710), 'publicli': np.int64(1053), 'loudli': np.int64(772), 'bbq': np.int64(81), 'lighter': np.int64(754), 'fare': np.int64(469), 'public': np.int64(1052), 'two': np.int64(1410), 'happi': np.int64(609), 'downsid': np.int64(379), 'without': np.int64(1471), 'doubt': np.int64(374), 'except': np.int64(447), 'month': np.int64(850), 'favorit': np.int64(474), 'shawarrrrrrma': np.int64(1193), 'black': np.int64(109), 'pea': np.int64(970), 'unreal': np.int64(1423), 'seen': np.int64(1176), 'especi': np.int64(431), 'mom': np.int64(847), 'pleasant': np.int64(1009), 'honor': np.int64(644), 'hut': np.int64(665), 'coupon': np.int64(277), 'truli': np.int64(1402), 'dirti': np.int64(353), 'replenish': np.int64(1106), 'plain': np.int64(1001), 'yucki': np.int64(1495), 'standard': np.int64(1266), 'omg': np.int64(915), 'delicioso': np.int64(331), 'authent': np.int64(46), 'spaghetti': np.int64(1251), 'veget': np.int64(1440), 'tucson': np.int64(1403), 'chipotl': np.int64(217), 'classi': np.int64(227), 'succul': np.int64(1303), 'basebal': np.int64(75), 'brick': np.int64(141), 'oven': np.int64(935), 'multipl': np.int64(861), 'ten': np.int64(1341), 'terribl': np.int64(1344), 'equal': np.int64(430), 'pancak': np.int64(951), 'genuin': np.int64(548), 'enthusiast': np.int64(427), 'sadli': np.int64(1141), 'gordon': np.int64(568), 'ramsey': np.int64(1067), 'shall': np.int64(1191), 'sharpli': np.int64(1192), 'life': np.int64(752), 'door': np.int64(372), 'offer': np.int64(905), 'cool': np.int64(267), 'turn': np.int64(1407), 'els': np.int64(417), 'buy': np.int64(163), 'handl': np.int64(605), 'rowdi': np.int64(1134), 'find': np.int64(487), 'despic': np.int64(341), 'soup': np.int64(1247), 'lukewarm': np.int64(780), 'crave': np.int64(288), 'deserv': np.int64(339), 'stomach': np.int64(1281), 'rest': np.int64(1109), 'drop': np.int64(392), 'ball': np.int64(66), 'space': np.int64(1250), 'tini': np.int64(1369), 'elegantli': np.int64(415), 'comfort': np.int64(245), 'eggplant': np.int64(413), 'green': np.int64(583), 'bean': np.int64(82), 'outta': np.int64(934), 'part': np.int64(957), 'inconsider': np.int64(677), 'hi': np.int64(629), 'dinner': np.int64(350), 'outshin': np.int64(931), 'halibut': np.int64(601), 'told': np.int64(1375), 'happen': np.int64(608), 'car': np.int64(180), 'front': np.int64(529), 'starv': np.int64(1269), 'disgrac': np.int64(360), 'def': np.int64(324), 'ethic': np.int64(434), 'continu': np.int64(264), 'andddd': np.int64(25), 'anyon': np.int64(29), 'past': np.int64(961), 'stuf': np.int64(1295), 'crystal': np.int64(303), 'shop': np.int64(1198), 'mall': np.int64(792), 'summar': np.int64(1310), 'nay': np.int64(872), 'transcend': np.int64(1393), 'bring': np.int64(142), 'joy': np.int64(711), 'memori': np.int64(821), 'pneumat': np.int64(1013), 'condiment': np.int64(257), 'dispens': np.int64(363), 'ian': np.int64(666), 'kid': np.int64(719), 'option': np.int64(923), 'kiddo': np.int64(720), 'perfect': np.int64(978), 'famili': np.int64(464), 'impecc': np.int64(673), 'simpli': np.int64(1211), 'bouchon': np.int64(131), 'screw': np.int64(1167), 'remind': np.int64(1105), 'pop': np.int64(1020), 'san': np.int64(1152), 'francisco': np.int64(519), 'buldogi': np.int64(155), 'gourmet': np.int64(571), 'frustrat': np.int64(532), 'petti': np.int64(985), 'hungri': np.int64(662), 'assur': np.int64(39), 'teeth': np.int64(1338), 'sore': np.int64(1243), 'complet': np.int64(251), 'becom': np.int64(86), 'regular': np.int64(1097), 'profession': np.int64(1042), 'companion': np.int64(248), 'ground': np.int64(590), 'smear': np.int64(1223), 'track': np.int64(1390), 'everywher': np.int64(442), 'pile': np.int64(993), 'bird': np.int64(103), 'poop': np.int64(1017), 'furthermor': np.int64(538), 'oper': np.int64(919), 'mistak': np.int64(841), 'expert': np.int64(454), 'connisseur': np.int64(258), 'topic': np.int64(1382), 'jerk': np.int64(704), 'strike': np.int64(1290), 'rush': np.int64(1138), 'nicest': np.int64(884), 'biscuit': np.int64(104), 'awkward': np.int64(53), 'lb': np.int64(738), 'cow': np.int64(282), 'th': np.int64(1347), 'gristl': np.int64(587), 'fat': np.int64(471), 'steiner': np.int64(1274), 'dollar': np.int64(368), 'anyway': np.int64(32), 'fs': np.int64(533), 'week': np.int64(1462), 'mention': np.int64(822), 'combin': np.int64(242), 'pear': np.int64(973), 'almond': np.int64(14), 'big': np.int64(98), 'spicier': np.int64(1257), 'prefer': np.int64(1030), 'ribey': np.int64(1118), 'mesquit': np.int64(824), 'anytim': np.int64(31), 'gooodd': np.int64(567), 'connoisseur': np.int64(259), 'certainli': np.int64(196), 'contain': np.int64(263), 'driest': np.int64(388), 'relax': np.int64(1101), 'group': np.int64(591), 'etc': np.int64(433), 'nargil': np.int64(870), 'tater': np.int64(1335), 'tot': np.int64(1384), 'southwest': np.int64(1249), 'paid': np.int64(946), 'vanilla': np.int64(1436), 'smooth': np.int64(1226), 'profiterol': np.int64(1043), 'choux': np.int64(220), 'pastri': np.int64(963), 'im': np.int64(670), 'az': np.int64(56), 'new': np.int64(881), 'carli': np.int64(183), 'due': np.int64(396), 'acknowledg': np.int64(2), 'forget': np.int64(513), 'margarita': np.int64(798), 'upgrad': np.int64(1429), 'letdown': np.int64(749), 'rather': np.int64(1074), 'camelback': np.int64(174), 'flower': np.int64(504), 'cartel': np.int64(186), 'trim': np.int64(1398), 'claim': np.int64(225), 'bill': np.int64(101), 'jewel': np.int64(705), 'la': np.int64(726), 'exactli': np.int64(443), 'nearli': np.int64(873), 'limit': np.int64(758), 'boil': np.int64(124), 'crab': np.int64(285), 'leg': np.int64(744), 'toro': np.int64(1383), 'cavier': np.int64(195), 'extraordinari': np.int64(458), 'thinli': np.int64(1356), 'slice': np.int64(1218), 'truffl': np.int64(1401), 'dont': np.int64(370), 'long': np.int64(766), 'ga': np.int64(540), 'awesom': np.int64(52), 'wors': np.int64(1478), 'humili': np.int64(659), 'worker': np.int64(1475), 'bunch': np.int64(156), 'name': np.int64(868), 'call': np.int64(171), 'conclus': np.int64(256), 'fill': np.int64(484), 'daili': np.int64(309), 'tragedi': np.int64(1392), 'struck': np.int64(1293), 'crawfish': np.int64(289), 'monster': np.int64(849), 'funni': np.int64(537), 'multi': np.int64(860), 'grain': np.int64(573), 'pumpkin': np.int64(1056), 'pecan': np.int64(974), 'fluffi': np.int64(505), 'airlin': np.int64(9), 'noca': np.int64(889), 'lettuc': np.int64(750), 'thoroughli': np.int64(1359), 'homemad': np.int64(640), 'thin': np.int64(1353), 'cheesecurd': np.int64(210), 'typic': np.int64(1411), 'glanc': np.int64(555), 'finger': np.int64(489), 'item': np.int64(698), 'gone': np.int64(564), 'greasi': np.int64(578), 'unhealthi': np.int64(1418), 'might': np.int64(831), 'similarli': np.int64(1209), 'deliveri': np.int64(335), 'man': np.int64(793), 'apolog': np.int64(33), 'expens': np.int64(451), 'pack': np.int64(945), 'tiramisu': np.int64(1371), 'cannoli': np.int64(175), 'sun': np.int64(1313), 'whole': np.int64(1466), 'choos': np.int64(219), 'frenchman': np.int64(523), 'martini': np.int64(803), 'opinion': np.int64(920), 'entre': np.int64(429), 'gc': np.int64(545), 'sampl': np.int64(1151), 'thirti': np.int64(1358), 'yellowtail': np.int64(1492), 'carpaccio': np.int64(184), 'stranger': np.int64(1286), 'hello': np.int64(626), 'strang': np.int64(1285), 'boyfriend': np.int64(136), 'recent': np.int64(1086), 'donut': np.int64(371), 'save': np.int64(1161), 'room': np.int64(1131), 'mayb': np.int64(806), 'howev': np.int64(655), 'particular': np.int64(959), 'suffer': np.int64(1306), 'tapa': np.int64(1330), 'vinegrett': np.int64(1447), 'babi': np.int64(58), 'palm': np.int64(949), 'believ': np.int64(91), 'hanker': np.int64(607), 'forth': np.int64(514), 'theft': np.int64(1351), 'eew': np.int64(409), 'overhaul': np.int64(938), 'guest': np.int64(595), 'regularli': np.int64(1098), 'super': np.int64(1316), 'swung': np.int64(1322), 'deepli': np.int64(323), 'effici': np.int64(410), 'fan': np.int64(466), 'sucker': np.int64(1305), 'dri': np.int64(387), 'cheap': np.int64(204), 'oliv': np.int64(913), 'perpar': np.int64(982), 'present': np.int64(1032), 'giant': np.int64(550), 'lightli': np.int64(755), 'dust': np.int64(398), 'powder': np.int64(1028), 'sugar': np.int64(1307), 'fo': np.int64(506), 'accomod': np.int64(1), 'vegan': np.int64(1439), 'veggi': np.int64(1442), 'crumbi': np.int64(300), 'pale': np.int64(948), 'color': np.int64(241), 'instead': np.int64(691), 'crouton': np.int64(298), 'crema': np.int64(293), 'caf': np.int64(167), 'expand': np.int64(449), 'philadelphia': np.int64(987), 'sit': np.int64(1214), 'fairli': np.int64(463), 'crisp': np.int64(295), 'north': np.int64(893), 'scottsdal': np.int64(1165), 'soooooo': np.int64(1242), 'freak': np.int64(520), 'paper': np.int64(953), 'reheat': np.int64(1099), 'ok': np.int64(910), 'sorri': np.int64(1244), 'tongu': np.int64(1378), 'cheek': np.int64(207), 'bloodi': np.int64(117), 'despit': np.int64(342), 'yellow': np.int64(1491), 'saffron': np.int64(1142), 'thru': np.int64(1364), 'mean': np.int64(809), 'half': np.int64(600), 'somehow': np.int64(1232), 'luck': np.int64(778), 'non': np.int64(890), 'focus': np.int64(507), 'grandmoth': np.int64(574), 'hostess': np.int64(650), 'four': np.int64(518), 'blue': np.int64(121), 'shirt': np.int64(1194), 'vibe': np.int64(1446), 'drastic': np.int64(382), 'caesar': np.int64(166), 'promptli': np.int64(1047), 'madhous': np.int64(785), 'proven': np.int64(1049), 'dead': np.int64(315), 'greatest': np.int64(580), 'macaron': np.int64(783), 'insan': np.int64(687), 'inform': np.int64(685), 'somewhat': np.int64(1236), 'edibl': np.int64(405), 'promis': np.int64(1045), 'fail': np.int64(462), 'deliv': np.int64(334), 'averag': np.int64(47), 'plater': np.int64(1005), 'togeth': np.int64(1374), 'poorli': np.int64(1019), 'construct': np.int64(262), 'italian': np.int64(697), 'scream': np.int64(1166), 'legit': np.int64(745), 'book': np.int64(126), 'somethat': np.int64(1235), 'duo': np.int64(397), 'song': np.int64(1238), 'request': np.int64(1107), 'baklava': np.int64(65), 'baba': np.int64(57), 'ganoush': np.int64(541), 'mgm': np.int64(828), 'courteou': np.int64(280), 'eclect': np.int64(403), 'onion': np.int64(917), 'ring': np.int64(1124), 'nobu': np.int64(888), 'googl': np.int64(566), 'smashburg': np.int64(1222), 'gem': np.int64(546), 'plantain': np.int64(1002), 'spend': np.int64(1254), 'panna': np.int64(952), 'cotta': np.int64(273), 'slaw': np.int64(1217), 'drench': np.int64(385), 'piano': np.int64(990), 'soundtrack': np.int64(1246), 'rge': np.int64(1115), 'fillet': np.int64(485), 'relleno': np.int64(1102), 'plate': np.int64(1004), 'sergeant': np.int64(1181), 'auju': np.int64(45), 'hawaiian': np.int64(616), 'breez': np.int64(140), 'mango': np.int64(796), 'magic': np.int64(788), 'pineappl': np.int64(995), 'smoothi': np.int64(1227), 'mortifi': np.int64(852), 'needless': np.int64(876), 'drip': np.int64(390), 'mostli': np.int64(853), 'hospit': np.int64(648), 'industri': np.int64(682), 'paradis': np.int64(955), 'refrain': np.int64(1092), 'cibo': np.int64(223), 'longer': np.int64(767), 'read': np.int64(1078), 'pro': np.int64(1038), 'simpl': np.int64(1210), 'dough': np.int64(376), 'tonight': np.int64(1379), 'elk': np.int64(416), 'hook': np.int64(645), 'classic': np.int64(228), 'quaint': np.int64(1060), 'compliment': np.int64(252), 'thank': np.int64(1349), 'dylan': np.int64(399), 'tummi': np.int64(1404), 'gratuiti': np.int64(576), 'larger': np.int64(730), 'fli': np.int64(501), 'juic': np.int64(713), 'han': np.int64(603), 'nan': np.int64(869), 'bare': np.int64(71), 'ryan': np.int64(1139), 'edinburgh': np.int64(406), 'revisit': np.int64(1114), 'chines': np.int64(214), 'naan': np.int64(866), 'pine': np.int64(994), 'nut': np.int64(899), 'airport': np.int64(10), 'speedi': np.int64(1253), 'calligraphi': np.int64(172), 'anyth': np.int64(30), 'complain': np.int64(249), 'stood': np.int64(1282), 'begin': np.int64(89), 'awkwardli': np.int64(54), 'open': np.int64(918), 'extens': np.int64(456), 'wide': np.int64(1467), 'inflat': np.int64(684), 'smaller': np.int64(1221), 'grow': np.int64(592), 'rapidli': np.int64(1070), 'lil': np.int64(757), 'fuzzi': np.int64(539), 'thick': np.int64(1352), 'level': np.int64(751), 'spice': np.int64(1255), 'crowd': np.int64(299), 'older': np.int64(912), 'mid': np.int64(829), 'jalapeno': np.int64(699), 'that': np.int64(1350), 'shoe': np.int64(1196), 'leather': np.int64(740), 'defin': np.int64(325), 'block': np.int64(115), 'low': np.int64(775), 'key': np.int64(717), 'afford': np.int64(5), 'sour': np.int64(1248), 'sunday': np.int64(1314), 'tradit': np.int64(1391), 'hunan': np.int64(661), 'style': np.int64(1298), 'bother': np.int64(129), 'flair': np.int64(496), 'nutshel': np.int64(900), 'restaraunt': np.int64(1110), 'market': np.int64(801), 'sewer': np.int64(1189), 'girlfriend': np.int64(551), 'veal': np.int64(1437), 'satifi': np.int64(1157), 'join': np.int64(708), 'club': np.int64(232), 'email': np.int64(419), 'case': np.int64(187), 'colder': np.int64(239), 'flavorless': np.int64(499), 'describ': np.int64(337), 'tepid': np.int64(1343), 'chain': np.int64(198), 'easili': np.int64(400), 'nacho': np.int64(867), 'crazi': np.int64(290), 'juri': np.int64(714), 'lawyer': np.int64(737), 'court': np.int64(279), 'idea': np.int64(668), 'brother': np.int64(144), 'law': np.int64(736), 'herea': np.int64(628), 'tribut': np.int64(1397), 'held': np.int64(623), 'salsa': np.int64(1148), 'pissd': np.int64(997), 'surpris': np.int64(1319), 'golden': np.int64(563), 'fell': np.int64(477), 'bruschetta': np.int64(148), 'devin': np.int64(345), 'employe': np.int64(420), 'lastli': np.int64(732), 'mozzarella': np.int64(857), 'neglig': np.int64(877), 'unwelcom': np.int64(1426), 'consist': np.int64(261), 'fruit': np.int64(531), 'peach': np.int64(971), 'offici': np.int64(906), 'blown': np.int64(120), 'put': np.int64(1059), 'plastic': np.int64(1003), 'oppos': np.int64(922), 'cram': np.int64(286), 'takeout': np.int64(1327), 'cr': np.int64(284), 'pe': np.int64(969), 'delic': np.int64(329), 'aw': np.int64(50), 'kabuki': np.int64(715), 'maria': np.int64(800), 'fuck': np.int64(534), 'caballero': np.int64(165), 'head': np.int64(617), 'oyster': np.int64(943), 'round': np.int64(1133), 'disbelief': np.int64(358), 'qualifi': np.int64(1061), 'toler': np.int64(1376), 'polit': np.int64(1016), 'otherwis': np.int64(927), 'heat': np.int64(621), 'coconut': np.int64(235), 'fella': np.int64(478), 'huevo': np.int64(656), 'ranchero': np.int64(1069), 'pricey': np.int64(1035), 'temp': np.int64(1340), 'glove': np.int64(557), 'deep': np.int64(322), 'oil': np.int64(909), 'pleasur': np.int64(1010), 'plethora': np.int64(1011), 'seal': np.int64(1169), 'colleg': np.int64(240), 'class': np.int64(226), 'start': np.int64(1268), 'edit': np.int64(407), 'besid': np.int64(94), 'costco': np.int64(272), 'uniqu': np.int64(1420), 'hardli': np.int64(613), 'groceri': np.int64(588), 'store': np.int64(1284), 'japanes': np.int64(701), 'dude': np.int64(395), 'doughi': np.int64(377), 'inch': np.int64(675), 'albondiga': np.int64(12), 'tomato': np.int64(1377), 'meatbal': np.int64(811), 'three': np.int64(1362), 'occas': np.int64(903), 'medium': np.int64(815), 'bloodiest': np.int64(118), 'refus': np.int64(1095), 'killer': np.int64(721), 'chai': np.int64(197), 'latt': np.int64(735), 'allergi': np.int64(13), 'clue': np.int64(233), 'mediterranean': np.int64(814), 'rotat': np.int64(1132), 'concern': np.int64(255), 'mellow': np.int64(819), 'strawberri': np.int64(1287), 'unprofession': np.int64(1422), 'loyal': np.int64(777), 'patron': np.int64(966), 'occasion': np.int64(904), 'pat': np.int64(964), 'bellagio': np.int64(92), 'correct': np.int64(270), 'bought': np.int64(132), 'sal': np.int64(1145), 'fav': np.int64(472), 'unexperienc': np.int64(1416), 'steakhous': np.int64(1273), 'properli': np.int64(1048), 'understand': np.int64(1414), 'concept': np.int64(254), 'guacamol': np.int64(593), 'pur': np.int64(1057), 'ed': np.int64(404), 'postino': np.int64(1025), 'poison': np.int64(1015), 'batch': np.int64(77), 'yay': np.int64(1489), 'hilari': np.int64(633), 'christma': np.int64(222), 'eve': np.int64(435), 'rememb': np.int64(1104), 'biggest': np.int64(100), 'entir': np.int64(428), 'teamwork': np.int64(1337), 'degre': np.int64(327), 'ri': np.int64(1116), 'calamari': np.int64(170), 'fondu': np.int64(509), 'lost': np.int64(770), 'forev': np.int64(512), 'scene': np.int64(1164), 'denni': np.int64(336), 'downright': np.int64(378), 'sangria': np.int64(1154), 'glass': np.int64(556), 'ridicul': np.int64(1122), 'brisket': np.int64(143), 'neat': np.int64(874), 'trippi': np.int64(1400), 'hurri': np.int64(663), 'reserv': np.int64(1108), 'stretch': np.int64(1289), 'cashew': np.int64(189), 'undercook': np.int64(1413), 'chipolt': np.int64(216), 'ranch': np.int64(1068), 'dip': np.int64(351), 'saus': np.int64(1160), 'douchey': np.int64(375), 'indoor': np.int64(681), 'garden': np.int64(542), 'con': np.int64(253), 'spotti': np.int64(1261), 'neither': np.int64(879), 'ensu': np.int64(426), 'bing': np.int64(102), 'carb': np.int64(181), 'profound': np.int64(1044), 'deuchebaggeri': np.int64(344), 'smoke': np.int64(1225), 'solidifi': np.int64(1231), 'ala': np.int64(11), 'cart': np.int64(185), 'blame': np.int64(111), 'del': np.int64(328), 'hamburg': np.int64(602), 'hell': np.int64(624), 'gotten': np.int64(570), 'ya': np.int64(1487), 'shot': np.int64(1200), 'firebal': np.int64(491), 'disapppoint': np.int64(356), 'heimer': np.int64(622), 'caus': np.int64(194), 'own': np.int64(941), 'vomit': np.int64(1450), 'circumst': np.int64(224), 'brownish': np.int64(146), 'obvious': np.int64(902), 'movi': np.int64(855), 'ha': np.int64(598), 'flop': np.int64(503), 'problem': np.int64(1040), 'bigger': np.int64(99), 'unwrap': np.int64(1427), 'mile': np.int64(832), 'brushfir': np.int64(149), 'mirag': np.int64(839), 'refri': np.int64(1094), 'crusti': np.int64(302), 'caterpillar': np.int64(192), 'instantli': np.int64(690), 'ninja': np.int64(887), 'pour': np.int64(1027), 'wound': np.int64(1482), 'draw': np.int64(383)}\n"
          ]
        }
      ]
    },
    {
      "cell_type": "markdown",
      "metadata": {
        "id": "DH_VjgPzC2cd"
      },
      "source": [
        "## Splitting the dataset into the Training set and Test set"
      ]
    },
    {
      "cell_type": "code",
      "metadata": {
        "id": "qQXYM5VzDDDI"
      },
      "source": [
        "from sklearn.model_selection import train_test_split\n",
        "X_train, X_test, y_train, y_test = train_test_split(X, y, test_size = 0.20, random_state = 0)"
      ],
      "execution_count": null,
      "outputs": []
    },
    {
      "cell_type": "markdown",
      "metadata": {
        "id": "VkIq23vEDIPt"
      },
      "source": [
        "## Training the Naive Bayes model on the Training set"
      ]
    },
    {
      "cell_type": "code",
      "metadata": {
        "id": "DS9oiDXXDRdI",
        "outputId": "031b98e0-cf5b-49c7-c9f7-1a64675e296b",
        "colab": {
          "base_uri": "https://localhost:8080/",
          "height": 80
        }
      },
      "source": [
        "from sklearn.naive_bayes import GaussianNB\n",
        "classifier = GaussianNB()\n",
        "classifier.fit(X_train, y_train)"
      ],
      "execution_count": null,
      "outputs": [
        {
          "output_type": "execute_result",
          "data": {
            "text/plain": [
              "GaussianNB()"
            ],
            "text/html": [
              "<style>#sk-container-id-6 {\n",
              "  /* Definition of color scheme common for light and dark mode */\n",
              "  --sklearn-color-text: #000;\n",
              "  --sklearn-color-text-muted: #666;\n",
              "  --sklearn-color-line: gray;\n",
              "  /* Definition of color scheme for unfitted estimators */\n",
              "  --sklearn-color-unfitted-level-0: #fff5e6;\n",
              "  --sklearn-color-unfitted-level-1: #f6e4d2;\n",
              "  --sklearn-color-unfitted-level-2: #ffe0b3;\n",
              "  --sklearn-color-unfitted-level-3: chocolate;\n",
              "  /* Definition of color scheme for fitted estimators */\n",
              "  --sklearn-color-fitted-level-0: #f0f8ff;\n",
              "  --sklearn-color-fitted-level-1: #d4ebff;\n",
              "  --sklearn-color-fitted-level-2: #b3dbfd;\n",
              "  --sklearn-color-fitted-level-3: cornflowerblue;\n",
              "\n",
              "  /* Specific color for light theme */\n",
              "  --sklearn-color-text-on-default-background: var(--sg-text-color, var(--theme-code-foreground, var(--jp-content-font-color1, black)));\n",
              "  --sklearn-color-background: var(--sg-background-color, var(--theme-background, var(--jp-layout-color0, white)));\n",
              "  --sklearn-color-border-box: var(--sg-text-color, var(--theme-code-foreground, var(--jp-content-font-color1, black)));\n",
              "  --sklearn-color-icon: #696969;\n",
              "\n",
              "  @media (prefers-color-scheme: dark) {\n",
              "    /* Redefinition of color scheme for dark theme */\n",
              "    --sklearn-color-text-on-default-background: var(--sg-text-color, var(--theme-code-foreground, var(--jp-content-font-color1, white)));\n",
              "    --sklearn-color-background: var(--sg-background-color, var(--theme-background, var(--jp-layout-color0, #111)));\n",
              "    --sklearn-color-border-box: var(--sg-text-color, var(--theme-code-foreground, var(--jp-content-font-color1, white)));\n",
              "    --sklearn-color-icon: #878787;\n",
              "  }\n",
              "}\n",
              "\n",
              "#sk-container-id-6 {\n",
              "  color: var(--sklearn-color-text);\n",
              "}\n",
              "\n",
              "#sk-container-id-6 pre {\n",
              "  padding: 0;\n",
              "}\n",
              "\n",
              "#sk-container-id-6 input.sk-hidden--visually {\n",
              "  border: 0;\n",
              "  clip: rect(1px 1px 1px 1px);\n",
              "  clip: rect(1px, 1px, 1px, 1px);\n",
              "  height: 1px;\n",
              "  margin: -1px;\n",
              "  overflow: hidden;\n",
              "  padding: 0;\n",
              "  position: absolute;\n",
              "  width: 1px;\n",
              "}\n",
              "\n",
              "#sk-container-id-6 div.sk-dashed-wrapped {\n",
              "  border: 1px dashed var(--sklearn-color-line);\n",
              "  margin: 0 0.4em 0.5em 0.4em;\n",
              "  box-sizing: border-box;\n",
              "  padding-bottom: 0.4em;\n",
              "  background-color: var(--sklearn-color-background);\n",
              "}\n",
              "\n",
              "#sk-container-id-6 div.sk-container {\n",
              "  /* jupyter's `normalize.less` sets `[hidden] { display: none; }`\n",
              "     but bootstrap.min.css set `[hidden] { display: none !important; }`\n",
              "     so we also need the `!important` here to be able to override the\n",
              "     default hidden behavior on the sphinx rendered scikit-learn.org.\n",
              "     See: https://github.com/scikit-learn/scikit-learn/issues/21755 */\n",
              "  display: inline-block !important;\n",
              "  position: relative;\n",
              "}\n",
              "\n",
              "#sk-container-id-6 div.sk-text-repr-fallback {\n",
              "  display: none;\n",
              "}\n",
              "\n",
              "div.sk-parallel-item,\n",
              "div.sk-serial,\n",
              "div.sk-item {\n",
              "  /* draw centered vertical line to link estimators */\n",
              "  background-image: linear-gradient(var(--sklearn-color-text-on-default-background), var(--sklearn-color-text-on-default-background));\n",
              "  background-size: 2px 100%;\n",
              "  background-repeat: no-repeat;\n",
              "  background-position: center center;\n",
              "}\n",
              "\n",
              "/* Parallel-specific style estimator block */\n",
              "\n",
              "#sk-container-id-6 div.sk-parallel-item::after {\n",
              "  content: \"\";\n",
              "  width: 100%;\n",
              "  border-bottom: 2px solid var(--sklearn-color-text-on-default-background);\n",
              "  flex-grow: 1;\n",
              "}\n",
              "\n",
              "#sk-container-id-6 div.sk-parallel {\n",
              "  display: flex;\n",
              "  align-items: stretch;\n",
              "  justify-content: center;\n",
              "  background-color: var(--sklearn-color-background);\n",
              "  position: relative;\n",
              "}\n",
              "\n",
              "#sk-container-id-6 div.sk-parallel-item {\n",
              "  display: flex;\n",
              "  flex-direction: column;\n",
              "}\n",
              "\n",
              "#sk-container-id-6 div.sk-parallel-item:first-child::after {\n",
              "  align-self: flex-end;\n",
              "  width: 50%;\n",
              "}\n",
              "\n",
              "#sk-container-id-6 div.sk-parallel-item:last-child::after {\n",
              "  align-self: flex-start;\n",
              "  width: 50%;\n",
              "}\n",
              "\n",
              "#sk-container-id-6 div.sk-parallel-item:only-child::after {\n",
              "  width: 0;\n",
              "}\n",
              "\n",
              "/* Serial-specific style estimator block */\n",
              "\n",
              "#sk-container-id-6 div.sk-serial {\n",
              "  display: flex;\n",
              "  flex-direction: column;\n",
              "  align-items: center;\n",
              "  background-color: var(--sklearn-color-background);\n",
              "  padding-right: 1em;\n",
              "  padding-left: 1em;\n",
              "}\n",
              "\n",
              "\n",
              "/* Toggleable style: style used for estimator/Pipeline/ColumnTransformer box that is\n",
              "clickable and can be expanded/collapsed.\n",
              "- Pipeline and ColumnTransformer use this feature and define the default style\n",
              "- Estimators will overwrite some part of the style using the `sk-estimator` class\n",
              "*/\n",
              "\n",
              "/* Pipeline and ColumnTransformer style (default) */\n",
              "\n",
              "#sk-container-id-6 div.sk-toggleable {\n",
              "  /* Default theme specific background. It is overwritten whether we have a\n",
              "  specific estimator or a Pipeline/ColumnTransformer */\n",
              "  background-color: var(--sklearn-color-background);\n",
              "}\n",
              "\n",
              "/* Toggleable label */\n",
              "#sk-container-id-6 label.sk-toggleable__label {\n",
              "  cursor: pointer;\n",
              "  display: flex;\n",
              "  width: 100%;\n",
              "  margin-bottom: 0;\n",
              "  padding: 0.5em;\n",
              "  box-sizing: border-box;\n",
              "  text-align: center;\n",
              "  align-items: start;\n",
              "  justify-content: space-between;\n",
              "  gap: 0.5em;\n",
              "}\n",
              "\n",
              "#sk-container-id-6 label.sk-toggleable__label .caption {\n",
              "  font-size: 0.6rem;\n",
              "  font-weight: lighter;\n",
              "  color: var(--sklearn-color-text-muted);\n",
              "}\n",
              "\n",
              "#sk-container-id-6 label.sk-toggleable__label-arrow:before {\n",
              "  /* Arrow on the left of the label */\n",
              "  content: \"▸\";\n",
              "  float: left;\n",
              "  margin-right: 0.25em;\n",
              "  color: var(--sklearn-color-icon);\n",
              "}\n",
              "\n",
              "#sk-container-id-6 label.sk-toggleable__label-arrow:hover:before {\n",
              "  color: var(--sklearn-color-text);\n",
              "}\n",
              "\n",
              "/* Toggleable content - dropdown */\n",
              "\n",
              "#sk-container-id-6 div.sk-toggleable__content {\n",
              "  max-height: 0;\n",
              "  max-width: 0;\n",
              "  overflow: hidden;\n",
              "  text-align: left;\n",
              "  /* unfitted */\n",
              "  background-color: var(--sklearn-color-unfitted-level-0);\n",
              "}\n",
              "\n",
              "#sk-container-id-6 div.sk-toggleable__content.fitted {\n",
              "  /* fitted */\n",
              "  background-color: var(--sklearn-color-fitted-level-0);\n",
              "}\n",
              "\n",
              "#sk-container-id-6 div.sk-toggleable__content pre {\n",
              "  margin: 0.2em;\n",
              "  border-radius: 0.25em;\n",
              "  color: var(--sklearn-color-text);\n",
              "  /* unfitted */\n",
              "  background-color: var(--sklearn-color-unfitted-level-0);\n",
              "}\n",
              "\n",
              "#sk-container-id-6 div.sk-toggleable__content.fitted pre {\n",
              "  /* unfitted */\n",
              "  background-color: var(--sklearn-color-fitted-level-0);\n",
              "}\n",
              "\n",
              "#sk-container-id-6 input.sk-toggleable__control:checked~div.sk-toggleable__content {\n",
              "  /* Expand drop-down */\n",
              "  max-height: 200px;\n",
              "  max-width: 100%;\n",
              "  overflow: auto;\n",
              "}\n",
              "\n",
              "#sk-container-id-6 input.sk-toggleable__control:checked~label.sk-toggleable__label-arrow:before {\n",
              "  content: \"▾\";\n",
              "}\n",
              "\n",
              "/* Pipeline/ColumnTransformer-specific style */\n",
              "\n",
              "#sk-container-id-6 div.sk-label input.sk-toggleable__control:checked~label.sk-toggleable__label {\n",
              "  color: var(--sklearn-color-text);\n",
              "  background-color: var(--sklearn-color-unfitted-level-2);\n",
              "}\n",
              "\n",
              "#sk-container-id-6 div.sk-label.fitted input.sk-toggleable__control:checked~label.sk-toggleable__label {\n",
              "  background-color: var(--sklearn-color-fitted-level-2);\n",
              "}\n",
              "\n",
              "/* Estimator-specific style */\n",
              "\n",
              "/* Colorize estimator box */\n",
              "#sk-container-id-6 div.sk-estimator input.sk-toggleable__control:checked~label.sk-toggleable__label {\n",
              "  /* unfitted */\n",
              "  background-color: var(--sklearn-color-unfitted-level-2);\n",
              "}\n",
              "\n",
              "#sk-container-id-6 div.sk-estimator.fitted input.sk-toggleable__control:checked~label.sk-toggleable__label {\n",
              "  /* fitted */\n",
              "  background-color: var(--sklearn-color-fitted-level-2);\n",
              "}\n",
              "\n",
              "#sk-container-id-6 div.sk-label label.sk-toggleable__label,\n",
              "#sk-container-id-6 div.sk-label label {\n",
              "  /* The background is the default theme color */\n",
              "  color: var(--sklearn-color-text-on-default-background);\n",
              "}\n",
              "\n",
              "/* On hover, darken the color of the background */\n",
              "#sk-container-id-6 div.sk-label:hover label.sk-toggleable__label {\n",
              "  color: var(--sklearn-color-text);\n",
              "  background-color: var(--sklearn-color-unfitted-level-2);\n",
              "}\n",
              "\n",
              "/* Label box, darken color on hover, fitted */\n",
              "#sk-container-id-6 div.sk-label.fitted:hover label.sk-toggleable__label.fitted {\n",
              "  color: var(--sklearn-color-text);\n",
              "  background-color: var(--sklearn-color-fitted-level-2);\n",
              "}\n",
              "\n",
              "/* Estimator label */\n",
              "\n",
              "#sk-container-id-6 div.sk-label label {\n",
              "  font-family: monospace;\n",
              "  font-weight: bold;\n",
              "  display: inline-block;\n",
              "  line-height: 1.2em;\n",
              "}\n",
              "\n",
              "#sk-container-id-6 div.sk-label-container {\n",
              "  text-align: center;\n",
              "}\n",
              "\n",
              "/* Estimator-specific */\n",
              "#sk-container-id-6 div.sk-estimator {\n",
              "  font-family: monospace;\n",
              "  border: 1px dotted var(--sklearn-color-border-box);\n",
              "  border-radius: 0.25em;\n",
              "  box-sizing: border-box;\n",
              "  margin-bottom: 0.5em;\n",
              "  /* unfitted */\n",
              "  background-color: var(--sklearn-color-unfitted-level-0);\n",
              "}\n",
              "\n",
              "#sk-container-id-6 div.sk-estimator.fitted {\n",
              "  /* fitted */\n",
              "  background-color: var(--sklearn-color-fitted-level-0);\n",
              "}\n",
              "\n",
              "/* on hover */\n",
              "#sk-container-id-6 div.sk-estimator:hover {\n",
              "  /* unfitted */\n",
              "  background-color: var(--sklearn-color-unfitted-level-2);\n",
              "}\n",
              "\n",
              "#sk-container-id-6 div.sk-estimator.fitted:hover {\n",
              "  /* fitted */\n",
              "  background-color: var(--sklearn-color-fitted-level-2);\n",
              "}\n",
              "\n",
              "/* Specification for estimator info (e.g. \"i\" and \"?\") */\n",
              "\n",
              "/* Common style for \"i\" and \"?\" */\n",
              "\n",
              ".sk-estimator-doc-link,\n",
              "a:link.sk-estimator-doc-link,\n",
              "a:visited.sk-estimator-doc-link {\n",
              "  float: right;\n",
              "  font-size: smaller;\n",
              "  line-height: 1em;\n",
              "  font-family: monospace;\n",
              "  background-color: var(--sklearn-color-background);\n",
              "  border-radius: 1em;\n",
              "  height: 1em;\n",
              "  width: 1em;\n",
              "  text-decoration: none !important;\n",
              "  margin-left: 0.5em;\n",
              "  text-align: center;\n",
              "  /* unfitted */\n",
              "  border: var(--sklearn-color-unfitted-level-1) 1pt solid;\n",
              "  color: var(--sklearn-color-unfitted-level-1);\n",
              "}\n",
              "\n",
              ".sk-estimator-doc-link.fitted,\n",
              "a:link.sk-estimator-doc-link.fitted,\n",
              "a:visited.sk-estimator-doc-link.fitted {\n",
              "  /* fitted */\n",
              "  border: var(--sklearn-color-fitted-level-1) 1pt solid;\n",
              "  color: var(--sklearn-color-fitted-level-1);\n",
              "}\n",
              "\n",
              "/* On hover */\n",
              "div.sk-estimator:hover .sk-estimator-doc-link:hover,\n",
              ".sk-estimator-doc-link:hover,\n",
              "div.sk-label-container:hover .sk-estimator-doc-link:hover,\n",
              ".sk-estimator-doc-link:hover {\n",
              "  /* unfitted */\n",
              "  background-color: var(--sklearn-color-unfitted-level-3);\n",
              "  color: var(--sklearn-color-background);\n",
              "  text-decoration: none;\n",
              "}\n",
              "\n",
              "div.sk-estimator.fitted:hover .sk-estimator-doc-link.fitted:hover,\n",
              ".sk-estimator-doc-link.fitted:hover,\n",
              "div.sk-label-container:hover .sk-estimator-doc-link.fitted:hover,\n",
              ".sk-estimator-doc-link.fitted:hover {\n",
              "  /* fitted */\n",
              "  background-color: var(--sklearn-color-fitted-level-3);\n",
              "  color: var(--sklearn-color-background);\n",
              "  text-decoration: none;\n",
              "}\n",
              "\n",
              "/* Span, style for the box shown on hovering the info icon */\n",
              ".sk-estimator-doc-link span {\n",
              "  display: none;\n",
              "  z-index: 9999;\n",
              "  position: relative;\n",
              "  font-weight: normal;\n",
              "  right: .2ex;\n",
              "  padding: .5ex;\n",
              "  margin: .5ex;\n",
              "  width: min-content;\n",
              "  min-width: 20ex;\n",
              "  max-width: 50ex;\n",
              "  color: var(--sklearn-color-text);\n",
              "  box-shadow: 2pt 2pt 4pt #999;\n",
              "  /* unfitted */\n",
              "  background: var(--sklearn-color-unfitted-level-0);\n",
              "  border: .5pt solid var(--sklearn-color-unfitted-level-3);\n",
              "}\n",
              "\n",
              ".sk-estimator-doc-link.fitted span {\n",
              "  /* fitted */\n",
              "  background: var(--sklearn-color-fitted-level-0);\n",
              "  border: var(--sklearn-color-fitted-level-3);\n",
              "}\n",
              "\n",
              ".sk-estimator-doc-link:hover span {\n",
              "  display: block;\n",
              "}\n",
              "\n",
              "/* \"?\"-specific style due to the `<a>` HTML tag */\n",
              "\n",
              "#sk-container-id-6 a.estimator_doc_link {\n",
              "  float: right;\n",
              "  font-size: 1rem;\n",
              "  line-height: 1em;\n",
              "  font-family: monospace;\n",
              "  background-color: var(--sklearn-color-background);\n",
              "  border-radius: 1rem;\n",
              "  height: 1rem;\n",
              "  width: 1rem;\n",
              "  text-decoration: none;\n",
              "  /* unfitted */\n",
              "  color: var(--sklearn-color-unfitted-level-1);\n",
              "  border: var(--sklearn-color-unfitted-level-1) 1pt solid;\n",
              "}\n",
              "\n",
              "#sk-container-id-6 a.estimator_doc_link.fitted {\n",
              "  /* fitted */\n",
              "  border: var(--sklearn-color-fitted-level-1) 1pt solid;\n",
              "  color: var(--sklearn-color-fitted-level-1);\n",
              "}\n",
              "\n",
              "/* On hover */\n",
              "#sk-container-id-6 a.estimator_doc_link:hover {\n",
              "  /* unfitted */\n",
              "  background-color: var(--sklearn-color-unfitted-level-3);\n",
              "  color: var(--sklearn-color-background);\n",
              "  text-decoration: none;\n",
              "}\n",
              "\n",
              "#sk-container-id-6 a.estimator_doc_link.fitted:hover {\n",
              "  /* fitted */\n",
              "  background-color: var(--sklearn-color-fitted-level-3);\n",
              "}\n",
              "</style><div id=\"sk-container-id-6\" class=\"sk-top-container\"><div class=\"sk-text-repr-fallback\"><pre>GaussianNB()</pre><b>In a Jupyter environment, please rerun this cell to show the HTML representation or trust the notebook. <br />On GitHub, the HTML representation is unable to render, please try loading this page with nbviewer.org.</b></div><div class=\"sk-container\" hidden><div class=\"sk-item\"><div class=\"sk-estimator fitted sk-toggleable\"><input class=\"sk-toggleable__control sk-hidden--visually\" id=\"sk-estimator-id-6\" type=\"checkbox\" checked><label for=\"sk-estimator-id-6\" class=\"sk-toggleable__label fitted sk-toggleable__label-arrow\"><div><div>GaussianNB</div></div><div><a class=\"sk-estimator-doc-link fitted\" rel=\"noreferrer\" target=\"_blank\" href=\"https://scikit-learn.org/1.6/modules/generated/sklearn.naive_bayes.GaussianNB.html\">?<span>Documentation for GaussianNB</span></a><span class=\"sk-estimator-doc-link fitted\">i<span>Fitted</span></span></div></label><div class=\"sk-toggleable__content fitted\"><pre>GaussianNB()</pre></div> </div></div></div></div>"
            ]
          },
          "metadata": {},
          "execution_count": 57
        }
      ]
    },
    {
      "cell_type": "markdown",
      "metadata": {
        "id": "1JaRM7zXDWUy"
      },
      "source": [
        "## Predicting the Test set results"
      ]
    },
    {
      "cell_type": "code",
      "metadata": {
        "id": "Iif0CVhFDaMp",
        "outputId": "95887a4a-d20f-46ec-f19f-7c86169fb40e",
        "colab": {
          "base_uri": "https://localhost:8080/"
        },
        "collapsed": true
      },
      "source": [
        "y_pred = classifier.predict(X_test)\n",
        "print(np.concatenate((y_pred.reshape(len(y_pred),1), y_test.reshape(len(y_test),1)),1))"
      ],
      "execution_count": null,
      "outputs": [
        {
          "output_type": "stream",
          "name": "stdout",
          "text": [
            "[[1 0]\n",
            " [1 0]\n",
            " [1 0]\n",
            " [0 0]\n",
            " [0 0]\n",
            " [1 0]\n",
            " [1 1]\n",
            " [1 0]\n",
            " [1 0]\n",
            " [1 1]\n",
            " [1 1]\n",
            " [1 1]\n",
            " [1 0]\n",
            " [1 1]\n",
            " [1 1]\n",
            " [1 1]\n",
            " [0 0]\n",
            " [0 0]\n",
            " [0 0]\n",
            " [1 1]\n",
            " [0 0]\n",
            " [0 1]\n",
            " [1 1]\n",
            " [1 0]\n",
            " [1 0]\n",
            " [0 1]\n",
            " [1 1]\n",
            " [1 1]\n",
            " [1 1]\n",
            " [0 0]\n",
            " [1 1]\n",
            " [1 1]\n",
            " [1 1]\n",
            " [1 1]\n",
            " [1 1]\n",
            " [0 0]\n",
            " [1 0]\n",
            " [0 0]\n",
            " [1 0]\n",
            " [1 1]\n",
            " [1 1]\n",
            " [1 0]\n",
            " [1 1]\n",
            " [0 0]\n",
            " [0 0]\n",
            " [0 0]\n",
            " [1 0]\n",
            " [1 0]\n",
            " [0 0]\n",
            " [0 0]\n",
            " [1 1]\n",
            " [1 1]\n",
            " [1 1]\n",
            " [1 1]\n",
            " [1 0]\n",
            " [0 0]\n",
            " [1 1]\n",
            " [1 1]\n",
            " [0 0]\n",
            " [1 1]\n",
            " [1 0]\n",
            " [0 0]\n",
            " [1 0]\n",
            " [1 0]\n",
            " [1 1]\n",
            " [0 0]\n",
            " [1 1]\n",
            " [1 1]\n",
            " [1 1]\n",
            " [1 0]\n",
            " [1 1]\n",
            " [1 1]\n",
            " [1 1]\n",
            " [1 1]\n",
            " [0 0]\n",
            " [1 0]\n",
            " [1 1]\n",
            " [0 1]\n",
            " [0 0]\n",
            " [1 1]\n",
            " [0 0]\n",
            " [1 1]\n",
            " [1 1]\n",
            " [0 0]\n",
            " [1 1]\n",
            " [1 1]\n",
            " [1 0]\n",
            " [0 0]\n",
            " [1 1]\n",
            " [1 0]\n",
            " [0 0]\n",
            " [1 1]\n",
            " [0 0]\n",
            " [0 0]\n",
            " [1 0]\n",
            " [1 1]\n",
            " [1 0]\n",
            " [1 1]\n",
            " [1 1]\n",
            " [1 0]\n",
            " [0 1]\n",
            " [1 1]\n",
            " [1 1]\n",
            " [1 0]\n",
            " [0 1]\n",
            " [1 0]\n",
            " [1 1]\n",
            " [1 1]\n",
            " [0 0]\n",
            " [0 1]\n",
            " [0 1]\n",
            " [1 1]\n",
            " [0 0]\n",
            " [1 0]\n",
            " [1 1]\n",
            " [0 0]\n",
            " [1 1]\n",
            " [1 1]\n",
            " [1 1]\n",
            " [1 1]\n",
            " [1 1]\n",
            " [0 0]\n",
            " [1 1]\n",
            " [1 0]\n",
            " [0 0]\n",
            " [0 0]\n",
            " [1 1]\n",
            " [1 0]\n",
            " [0 0]\n",
            " [1 1]\n",
            " [1 0]\n",
            " [1 1]\n",
            " [0 0]\n",
            " [0 0]\n",
            " [1 1]\n",
            " [1 1]\n",
            " [1 1]\n",
            " [1 1]\n",
            " [1 1]\n",
            " [1 0]\n",
            " [0 1]\n",
            " [1 1]\n",
            " [1 1]\n",
            " [0 0]\n",
            " [1 0]\n",
            " [0 0]\n",
            " [1 0]\n",
            " [1 1]\n",
            " [1 1]\n",
            " [1 1]\n",
            " [1 1]\n",
            " [0 1]\n",
            " [1 1]\n",
            " [1 1]\n",
            " [1 0]\n",
            " [0 0]\n",
            " [1 1]\n",
            " [1 1]\n",
            " [1 1]\n",
            " [1 0]\n",
            " [1 0]\n",
            " [0 0]\n",
            " [0 1]\n",
            " [1 1]\n",
            " [0 0]\n",
            " [0 0]\n",
            " [1 0]\n",
            " [0 0]\n",
            " [0 0]\n",
            " [0 1]\n",
            " [0 0]\n",
            " [1 1]\n",
            " [1 1]\n",
            " [0 0]\n",
            " [0 0]\n",
            " [1 1]\n",
            " [0 0]\n",
            " [1 1]\n",
            " [0 0]\n",
            " [0 1]\n",
            " [1 1]\n",
            " [0 0]\n",
            " [0 0]\n",
            " [1 0]\n",
            " [0 0]\n",
            " [1 1]\n",
            " [0 0]\n",
            " [1 1]\n",
            " [0 0]\n",
            " [1 1]\n",
            " [1 1]\n",
            " [0 0]\n",
            " [1 0]\n",
            " [1 0]\n",
            " [1 1]\n",
            " [0 0]\n",
            " [1 1]\n",
            " [1 1]\n",
            " [1 0]\n",
            " [1 1]]\n"
          ]
        }
      ]
    },
    {
      "cell_type": "markdown",
      "metadata": {
        "id": "xoMltea5Dir1"
      },
      "source": [
        "## Making the Confusion Matrix"
      ]
    },
    {
      "cell_type": "code",
      "metadata": {
        "id": "Xj9IU6MxDnvo",
        "outputId": "d32d4537-4243-4710-b451-9ebfb619bdc9",
        "colab": {
          "base_uri": "https://localhost:8080/"
        }
      },
      "source": [
        "from sklearn.metrics import confusion_matrix, accuracy_score\n",
        "cm = confusion_matrix(y_test, y_pred)\n",
        "print(cm)\n",
        "accuracy_score(y_test, y_pred)"
      ],
      "execution_count": null,
      "outputs": [
        {
          "output_type": "stream",
          "name": "stdout",
          "text": [
            "[[55 42]\n",
            " [12 91]]\n"
          ]
        },
        {
          "output_type": "execute_result",
          "data": {
            "text/plain": [
              "0.73"
            ]
          },
          "metadata": {},
          "execution_count": 59
        }
      ]
    },
    {
      "cell_type": "markdown",
      "metadata": {
        "id": "CWRIr6jx9vjh"
      },
      "source": [
        "## Logistic Regression\n"
      ]
    },
    {
      "cell_type": "code",
      "source": [
        "from sklearn.linear_model import LogisticRegression\n",
        "classifier = LogisticRegression(random_state = 0)\n",
        "classifier.fit(X_train, y_train)\n",
        "y_pred = classifier.predict(X_test)\n",
        "from sklearn.metrics import confusion_matrix, accuracy_score\n",
        "cm = confusion_matrix(y_test, y_pred)\n",
        "print(cm)\n",
        "accuracy_score(y_test, y_pred)"
      ],
      "metadata": {
        "colab": {
          "base_uri": "https://localhost:8080/"
        },
        "id": "TeafMIwM9LqI",
        "outputId": "9dd0bd54-e916-4d32-9d2b-35cfc47792fb"
      },
      "execution_count": null,
      "outputs": [
        {
          "output_type": "stream",
          "name": "stdout",
          "text": [
            "[[80 17]\n",
            " [28 75]]\n"
          ]
        },
        {
          "output_type": "execute_result",
          "data": {
            "text/plain": [
              "0.775"
            ]
          },
          "metadata": {},
          "execution_count": 42
        }
      ]
    },
    {
      "cell_type": "markdown",
      "metadata": {
        "id": "heJph84I-aZd"
      },
      "source": [
        "## K - Nearest Neighbours\n"
      ]
    },
    {
      "cell_type": "code",
      "source": [
        "from sklearn.neighbors import KNeighborsClassifier\n",
        "classifier = KNeighborsClassifier(n_neighbors = 5, metric = 'minkowski', p = 2)\n",
        "classifier.fit(X_train, y_train)\n",
        "y_pred = classifier.predict(X_test)\n",
        "from sklearn.metrics import confusion_matrix, accuracy_score\n",
        "cm = confusion_matrix(y_test, y_pred)\n",
        "print(cm)\n",
        "accuracy_score(y_test, y_pred)"
      ],
      "metadata": {
        "colab": {
          "base_uri": "https://localhost:8080/"
        },
        "id": "nvRTZuKT-stI",
        "outputId": "50ebad59-721f-448b-c454-d45a1c37402d"
      },
      "execution_count": null,
      "outputs": [
        {
          "output_type": "stream",
          "name": "stdout",
          "text": [
            "[[73 24]\n",
            " [43 60]]\n"
          ]
        },
        {
          "output_type": "execute_result",
          "data": {
            "text/plain": [
              "0.665"
            ]
          },
          "metadata": {},
          "execution_count": 43
        }
      ]
    },
    {
      "cell_type": "markdown",
      "metadata": {
        "id": "Jqumkdu2-bHQ"
      },
      "source": [
        "## Suport Vector Machine\n"
      ]
    },
    {
      "cell_type": "code",
      "source": [
        "from sklearn.svm import SVC\n",
        "classifier = SVC(kernel = 'linear', random_state = 0)\n",
        "classifier.fit(X_train, y_train)\n",
        "y_pred = classifier.predict(X_test)\n",
        "from sklearn.metrics import confusion_matrix, accuracy_score\n",
        "cm = confusion_matrix(y_test, y_pred)\n",
        "print(cm)\n",
        "accuracy_score(y_test, y_pred)"
      ],
      "metadata": {
        "colab": {
          "base_uri": "https://localhost:8080/"
        },
        "id": "ANVvjnrG-53s",
        "outputId": "2da2e3cd-76d6-488e-ecd2-ae88a2d2b752"
      },
      "execution_count": null,
      "outputs": [
        {
          "output_type": "stream",
          "name": "stdout",
          "text": [
            "[[78 19]\n",
            " [24 79]]\n"
          ]
        },
        {
          "output_type": "execute_result",
          "data": {
            "text/plain": [
              "0.785"
            ]
          },
          "metadata": {},
          "execution_count": 44
        }
      ]
    },
    {
      "cell_type": "markdown",
      "metadata": {
        "id": "Mwcy7EVz-bTH"
      },
      "source": [
        "## Kernel SVM\n"
      ]
    },
    {
      "cell_type": "code",
      "source": [
        "from sklearn.svm import SVC\n",
        "classifier = SVC(kernel = 'rbf', random_state = 0)\n",
        "classifier.fit(X_train, y_train)\n",
        "y_pred = classifier.predict(X_test)\n",
        "from sklearn.metrics import confusion_matrix, accuracy_score\n",
        "cm = confusion_matrix(y_test, y_pred)\n",
        "print(cm)\n",
        "accuracy_score(y_test, y_pred)"
      ],
      "metadata": {
        "colab": {
          "base_uri": "https://localhost:8080/"
        },
        "id": "Vfc3d21Q_iWr",
        "outputId": "662d8b21-8528-40fa-fe09-5fe7555d0f24"
      },
      "execution_count": null,
      "outputs": [
        {
          "output_type": "stream",
          "name": "stdout",
          "text": [
            "[[88  9]\n",
            " [37 66]]\n"
          ]
        },
        {
          "output_type": "execute_result",
          "data": {
            "text/plain": [
              "0.77"
            ]
          },
          "metadata": {},
          "execution_count": 45
        }
      ]
    },
    {
      "cell_type": "markdown",
      "metadata": {
        "id": "G8E4oeXS-bZt"
      },
      "source": [
        "## Decision Tree Classification\n"
      ]
    },
    {
      "cell_type": "code",
      "source": [
        "from sklearn.tree import DecisionTreeClassifier\n",
        "classifier = DecisionTreeClassifier(criterion = 'entropy', random_state = 0)\n",
        "classifier.fit(X_train, y_train)\n",
        "y_pred = classifier.predict(X_test)\n",
        "from sklearn.metrics import confusion_matrix, accuracy_score\n",
        "cm = confusion_matrix(y_test, y_pred)\n",
        "print(cm)\n",
        "accuracy_score(y_test, y_pred)"
      ],
      "metadata": {
        "colab": {
          "base_uri": "https://localhost:8080/"
        },
        "id": "2VwQoILW_hw2",
        "outputId": "2d541955-49ad-46db-f933-68071883767c"
      },
      "execution_count": null,
      "outputs": [
        {
          "output_type": "stream",
          "name": "stdout",
          "text": [
            "[[76 21]\n",
            " [34 69]]\n"
          ]
        },
        {
          "output_type": "execute_result",
          "data": {
            "text/plain": [
              "0.725"
            ]
          },
          "metadata": {},
          "execution_count": 46
        }
      ]
    },
    {
      "cell_type": "markdown",
      "metadata": {
        "id": "ZFXwcVNT_VwP"
      },
      "source": [
        "## Random Forest Classification\n"
      ]
    },
    {
      "cell_type": "code",
      "source": [
        "from sklearn.ensemble import RandomForestClassifier\n",
        "classifier = RandomForestClassifier(n_estimators = 10, criterion = 'entropy', random_state = 0)\n",
        "classifier.fit(X_train, y_train)\n",
        "y_pred = classifier.predict(X_test)\n",
        "from sklearn.metrics import confusion_matrix, accuracy_score\n",
        "cm = confusion_matrix(y_test, y_pred)\n",
        "print(cm)\n",
        "accuracy_score(y_test, y_pred)"
      ],
      "metadata": {
        "colab": {
          "base_uri": "https://localhost:8080/"
        },
        "id": "ytWVdLav_hkS",
        "outputId": "86d56610-4d6b-4632-92d4-641c8c4b26fd"
      },
      "execution_count": null,
      "outputs": [
        {
          "output_type": "stream",
          "name": "stdout",
          "text": [
            "[[83 14]\n",
            " [41 62]]\n"
          ]
        },
        {
          "output_type": "execute_result",
          "data": {
            "text/plain": [
              "0.725"
            ]
          },
          "metadata": {},
          "execution_count": 47
        }
      ]
    },
    {
      "cell_type": "markdown",
      "metadata": {
        "id": "4CiVD7lB-G4E"
      },
      "source": [
        "### Positive review"
      ]
    },
    {
      "cell_type": "markdown",
      "metadata": {
        "id": "P1o_pwhj9f3x"
      },
      "source": [
        "Use our model to predict if the following review:\n",
        "\n",
        "\"I love this restaurant so much\"\n",
        "\n",
        "is positive or negative."
      ]
    },
    {
      "cell_type": "markdown",
      "metadata": {
        "id": "hIPHW4zVEvKC"
      },
      "source": [
        "**Solution:** We just repeat the same text preprocessing process we did before, but this time with a single review."
      ]
    },
    {
      "cell_type": "code",
      "metadata": {
        "id": "4-jZEzWD49su",
        "outputId": "aaa34cec-5b18-4e73-ecae-58bc28a41c1c",
        "colab": {
          "base_uri": "https://localhost:8080/"
        }
      },
      "source": [
        "new_review = 'I love this restaurant so much'\n",
        "new_review = re.sub('[^a-zA-Z]', ' ', new_review)\n",
        "new_review = new_review.lower()\n",
        "new_review = new_review.split()\n",
        "ps = PorterStemmer()\n",
        "all_stopwords = stopwords.words('english')\n",
        "all_stopwords.remove('not')\n",
        "new_review = [ps.stem(word) for word in new_review if not word in set(all_stopwords)]\n",
        "new_review = ' '.join(new_review)\n",
        "new_corpus = [new_review]\n",
        "new_X_test = cv.transform(new_corpus).toarray()\n",
        "new_y_pred = classifier.predict(new_X_test)\n",
        "print(new_y_pred)"
      ],
      "execution_count": null,
      "outputs": [
        {
          "output_type": "stream",
          "name": "stdout",
          "text": [
            "[1]\n"
          ]
        }
      ]
    },
    {
      "cell_type": "markdown",
      "metadata": {
        "id": "Rkorcoxm93kP"
      },
      "source": [
        "The review was correctly predicted as positive by our model."
      ]
    },
    {
      "cell_type": "markdown",
      "metadata": {
        "id": "9qztXT-i-K1j"
      },
      "source": [
        "### Negative review"
      ]
    },
    {
      "cell_type": "markdown",
      "metadata": {
        "id": "cesW_qiH-CO0"
      },
      "source": [
        "Use our model to predict if the following review:\n",
        "\n",
        "\"I hate this restaurant so much\"\n",
        "\n",
        "is positive or negative."
      ]
    },
    {
      "cell_type": "markdown",
      "metadata": {
        "id": "X1DsvzmVE9EK"
      },
      "source": [
        "**Solution:** We just repeat the same text preprocessing process we did before, but this time with a single review."
      ]
    },
    {
      "cell_type": "code",
      "metadata": {
        "id": "ySAblyR98J2s",
        "outputId": "166e3c08-c99a-4156-d542-3294e355f1e6",
        "colab": {
          "base_uri": "https://localhost:8080/"
        }
      },
      "source": [
        "new_review = 'I hate this restaurant so much'\n",
        "new_review = re.sub('[^a-zA-Z]', ' ', new_review)\n",
        "new_review = new_review.lower()\n",
        "new_review = new_review.split()\n",
        "ps = PorterStemmer()\n",
        "all_stopwords = stopwords.words('english')\n",
        "all_stopwords.remove('not')\n",
        "new_review = [ps.stem(word) for word in new_review if not word in set(all_stopwords)]\n",
        "new_review = ' '.join(new_review)\n",
        "new_corpus = [new_review]\n",
        "new_X_test = cv.transform(new_corpus).toarray()\n",
        "new_y_pred = classifier.predict(new_X_test)\n",
        "print(new_y_pred)"
      ],
      "execution_count": null,
      "outputs": [
        {
          "output_type": "stream",
          "name": "stdout",
          "text": [
            "[0]\n"
          ]
        }
      ]
    },
    {
      "cell_type": "markdown",
      "metadata": {
        "id": "d72teliY-PUQ"
      },
      "source": [
        "The review was correctly predicted as negative by our model."
      ]
    }
  ]
}